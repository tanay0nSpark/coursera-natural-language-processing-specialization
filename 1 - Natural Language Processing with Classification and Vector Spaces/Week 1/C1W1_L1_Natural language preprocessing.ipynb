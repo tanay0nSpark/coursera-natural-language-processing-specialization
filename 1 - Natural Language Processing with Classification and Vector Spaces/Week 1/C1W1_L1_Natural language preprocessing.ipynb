{
  "cells": [
    {
      "cell_type": "markdown",
      "metadata": {
        "id": "view-in-github",
        "colab_type": "text"
      },
      "source": [
        "<a href=\"https://colab.research.google.com/github/tanay0nSpark/coursera-natural-language-processing-specialization/blob/master/1%20-%20Natural%20Language%20Processing%20with%20Classification%20and%20Vector%20Spaces/Week%201/C1W1_L1_Natural%20language%20preprocessing.ipynb\" target=\"_parent\"><img src=\"https://colab.research.google.com/assets/colab-badge.svg\" alt=\"Open In Colab\"/></a>"
      ]
    },
    {
      "cell_type": "markdown",
      "metadata": {
        "id": "sTK2W77jaaQT"
      },
      "source": [
        "# Preprocessing\n",
        "\n",
        "In this lab, we will be exploring how to preprocess tweets for sentiment analysis. We will provide a function for preprocessing tweets during this week's assignment, but it is still good to know what is going on under the hood. By the end of this lecture, you will see how to use the [NLTK](http://www.nltk.org) package to perform a preprocessing pipeline for Twitter datasets."
      ]
    },
    {
      "cell_type": "markdown",
      "metadata": {
        "id": "Ca2dHQSfaaQY"
      },
      "source": [
        "## Setup\n",
        "\n",
        "You will be doing sentiment analysis on tweets in the first two weeks of this course. To help with that, we will be using the [Natural Language Toolkit (NLTK)](http://www.nltk.org/howto/twitter.html) package, an open-source Python library for natural language processing. It has modules for collecting, handling, and processing Twitter data, and you will be acquainted with them as we move along the course.\n",
        "\n",
        "For this exercise, we will use a Twitter dataset that comes with NLTK. This dataset has been manually annotated and serves to establish baselines for models quickly. Let us import them now as well as a few other libraries we will be using."
      ]
    },
    {
      "cell_type": "code",
      "execution_count": 1,
      "metadata": {
        "id": "zCjguzAOaaQZ"
      },
      "outputs": [],
      "source": [
        "import nltk                                # Python library for NLP\n",
        "from nltk.corpus import twitter_samples    # sample Twitter dataset from NLTK\n",
        "import matplotlib.pyplot as plt            # library for visualization\n",
        "import random                              # pseudo-random number generator"
      ]
    },
    {
      "cell_type": "markdown",
      "metadata": {
        "id": "VbEF8NnJaaQb"
      },
      "source": [
        "## About the Twitter dataset\n",
        "\n",
        "The sample dataset from NLTK is separated into positive and negative tweets. It contains 5000 positive tweets and 5000 negative tweets exactly. The exact match between these classes is not a coincidence. The intention is to have a balanced dataset. That does not reflect the real distributions of positive and negative classes in live Twitter streams. It is just because balanced datasets simplify the design of most computational methods that are required for sentiment analysis. However, it is better to be aware that this balance of classes is artificial. \n",
        "\n",
        "The dataset is already downloaded in the Coursera workspace. In a local computer however, you can download the data by doing:"
      ]
    },
    {
      "cell_type": "code",
      "execution_count": 2,
      "metadata": {
        "id": "StOJ3XRFaaQc",
        "outputId": "e6da2906-1d53-4530-c9e7-7bb7da1141b7",
        "colab": {
          "base_uri": "https://localhost:8080/"
        }
      },
      "outputs": [
        {
          "output_type": "stream",
          "name": "stderr",
          "text": [
            "[nltk_data] Downloading package twitter_samples to /root/nltk_data...\n",
            "[nltk_data]   Unzipping corpora/twitter_samples.zip.\n"
          ]
        },
        {
          "output_type": "execute_result",
          "data": {
            "text/plain": [
              "True"
            ]
          },
          "metadata": {},
          "execution_count": 2
        }
      ],
      "source": [
        "# downloads sample twitter dataset. uncomment the line below if running on a local machine.\n",
        "nltk.download('twitter_samples')"
      ]
    },
    {
      "cell_type": "code",
      "source": [
        "!ls -lrt /root/nltk_data/corpora/twitter_samples\n"
      ],
      "metadata": {
        "id": "KlgKi3B8DjO2",
        "outputId": "4117cdeb-99e9-4570-b0aa-698062ee5985",
        "colab": {
          "base_uri": "https://localhost:8080/"
        }
      },
      "execution_count": 6,
      "outputs": [
        {
          "output_type": "stream",
          "name": "stdout",
          "text": [
            "total 119492\n",
            "-rw-r--r-- 1 root root 13494720 May  6 17:13 negative_tweets.json\n",
            "-rw-r--r-- 1 root root 14343550 May  6 17:13 positive_tweets.json\n",
            "-rw-r--r-- 1 root root     1626 May  6 17:13 README.txt\n",
            "-rw-r--r-- 1 root root      908 May  6 17:13 README.md\n",
            "-rw-r--r-- 1 root root 94509987 May  6 17:13 tweets.20150430-223406.json\n"
          ]
        }
      ]
    },
    {
      "cell_type": "markdown",
      "metadata": {
        "id": "4cHCEpwOaaQd"
      },
      "source": [
        "We can load the text fields of the positive and negative tweets by using the module's `strings()` method like this:"
      ]
    },
    {
      "cell_type": "code",
      "execution_count": 7,
      "metadata": {
        "id": "uYqUsaIqaaQe"
      },
      "outputs": [],
      "source": [
        "# select the set of positive and negative tweets\n",
        "all_positive_tweets = twitter_samples.strings('positive_tweets.json')\n",
        "all_negative_tweets = twitter_samples.strings('negative_tweets.json')"
      ]
    },
    {
      "cell_type": "code",
      "source": [
        "all_positive_tweets"
      ],
      "metadata": {
        "id": "t-pftEc7EBZM",
        "outputId": "0eb94647-bc91-471c-f401-6c416c58c31e",
        "colab": {
          "base_uri": "https://localhost:8080/"
        }
      },
      "execution_count": 8,
      "outputs": [
        {
          "output_type": "execute_result",
          "data": {
            "text/plain": [
              "['#FollowFriday @France_Inte @PKuchly57 @Milipol_Paris for being top engaged members in my community this week :)',\n",
              " '@Lamb2ja Hey James! How odd :/ Please call our Contact Centre on 02392441234 and we will be able to assist you :) Many thanks!',\n",
              " '@DespiteOfficial we had a listen last night :) As You Bleed is an amazing track. When are you in Scotland?!',\n",
              " '@97sides CONGRATS :)',\n",
              " 'yeaaaah yippppy!!!  my accnt verified rqst has succeed got a blue tick mark on my fb profile :) in 15 days',\n",
              " '@BhaktisBanter @PallaviRuhail This one is irresistible :)\\n#FlipkartFashionFriday http://t.co/EbZ0L2VENM',\n",
              " \"We don't like to keep our lovely customers waiting for long! We hope you enjoy! Happy Friday! - LWWF :) https://t.co/smyYriipxI\",\n",
              " '@Impatientraider On second thought, there’s just not enough time for a DD :) But new shorts entering system. Sheep must be buying.',\n",
              " 'Jgh , but we have to go to Bayan :D bye',\n",
              " 'As an act of mischievousness, am calling the ETL layer of our in-house warehousing app Katamari.\\n\\nWell… as the name implies :p.',\n",
              " '#FollowFriday @wncer1 @Defense_gouv for being top influencers in my community this week :)',\n",
              " \"Who Wouldn't Love These Big....Juicy....Selfies :) - http://t.co/QVzjgd1uFo http://t.co/oWBL11eQRY\",\n",
              " '@Mish23615351  follow @jnlazts &amp; http://t.co/RCvcYYO0Iq follow u back :)',\n",
              " \"@jjulieredburn Perfect, so you already know what's waiting for you :)\",\n",
              " 'Great new opportunity for junior triathletes aged 12 and 13 at the Gatorade series! Get your entries in :) http://t.co/of3DyOzML0',\n",
              " 'Laying out a greetings card range for print today - love my job :-)',\n",
              " \"Friend's lunch... yummmm :)\\n#Nostalgia #TBS #KU.\",\n",
              " \"@RookieSenpai @arcadester it is the id conflict thanks for the help :D here's the screenshot of it working\",\n",
              " '@oohdawg_ Hi liv :))',\n",
              " 'Hello I need to know something can u fm me on Twitter?? — sure thing :) dm me x http://t.co/W6Dy130BV7',\n",
              " '#FollowFriday @MBandScott_ @Eric_FLE @pointsolutions3 for being top new followers in my community this week :)',\n",
              " \"@rossbreadmore I've heard the Four Seasons is pretty dope. Penthouse, obvs #Gobigorgohome\\nHave fun y'all :)\",\n",
              " '@gculloty87 Yeah I suppose she was lol! Chat in a bit just off out x :))',\n",
              " 'Hello :) Get Youth Job Opportunities follow &gt;&gt; @tolajobjobs @maphisa301',\n",
              " \"💅🏽💋 - :)))) haven't seen you in years\",\n",
              " '@Bosslogic @amellywood @CW_Arrow @ARROWwriters Thank you! :-)',\n",
              " '@johngutierrez1 hope the rest of your night goes by quickly... I am off to bed... got my music fix and now it is time to dream  :)',\n",
              " 'Spiritual Ritual Festival (Népal)\\nBeginning of Line-up :)\\nIt is left for the line-up (y)\\nSee more at:... http://t.co/QMNz62OEuc',\n",
              " \"@ke7zum Hey Sarah! Send us an email at bitsy@bitdefender.com and we'll help you asap :)\",\n",
              " '@izzkamilhalda lols. :D',\n",
              " 'MY kik - hatessuce32429 #kik #kikme #lgbt #tinder #nsfw #akua #cumshot :) http://t.co/TnHJD36yzf',\n",
              " '@KalinWhite come to my house :)))))',\n",
              " '#nsn_supplements, Effective press release distribution with results! :) [link removed] #PressRelease #NewsDistribution',\n",
              " 'Hi BAM ! @BarsAndMelody \\nCan you follow my bestfriend @969Horan696 ? \\nShe loves you a lot :) \\nSee you in Warsaw &lt;3 \\nLove you &lt;3 x46',\n",
              " 'everyone watch the documentary Earthlings on YouTube :-)',\n",
              " '@jamiefigsxx  follow @jnlazts &amp; http://t.co/RCvcYYO0Iq follow u back :)',\n",
              " '#FollowFriday @MichelBauza @InvataOnline for being top supports in my community this week :)',\n",
              " 'buuuuuuuut oh well :-)',\n",
              " '@leisuremarkltd @NoshandQuaff @aktarislam @keanebrands @HeritageSilver I am looking forward to visiting next week #letsgetmessy Jo :-)',\n",
              " '@sehunshinedaily if it makes u feel better i never have nor will see anyone in kpop in the flesh :D',\n",
              " '@Joyster2012 @CathStaincliffe Good for you, girl!! Best wishes :-)',\n",
              " '@_Kimimi A great enough reason to listen to one epic soundtrack. :D',\n",
              " '@AquaDesignGroup Thank you for the shout out. Have a great Friday :)',\n",
              " 'I added a video to a @YouTube playlist http://t.co/yzpfsMxUq0 im back on twitch and today it going to be league :) - 1 / 4',\n",
              " 'Would love to see you dear in #Jordan :) waiting you! @FIRDOZ  :) @VisitJordan @dannyprol',\n",
              " '@ABNORMAL_ANA92 oh, okay :D thanks!',\n",
              " '@sssniperwolf like how to fake gameplays ;) haha Im kidding, im kidding. You do good stuff :).',\n",
              " '@dennislami @Dicle_Aygur, yeah exactly :)',\n",
              " 'Our new product line is in our #etsy shop now! Check it out :) http://t.co/h8exCTLQxg #boxroomcrafts',\n",
              " '@PeakYourMind I hope your vacation is going great! :D',\n",
              " '@groovinshawn they are rechargeable and it normally comes with a charger when u buy it :)',\n",
              " '#FollowFriday @France_Espana @reglisse_menthe @CCI_inter for being top engaged members in my community this week :)',\n",
              " \"Well she's asleep and I have no one to talk to sooo someone text me :)\",\n",
              " \"@brynybrath @smallcappy Yes, I suppose. I bet he'll have a blue fit after hearing her speech today. Pity :-)\",\n",
              " 'Green gardens, midnight sun, beautiful canals dasvidaniya till next visit.:)',\n",
              " '@KeithRParsons are you scouting SG for a future WLAN pros conference here in Asia? :)',\n",
              " '@Cecilie_Hell @420evilangel @wazimotometal @durooooooo @spigranty Good for u, better change it to lollipop 🍭 :).',\n",
              " 'We &lt;3 u Nez :) #AGNEZMO https://t.co/cGViMHSINz',\n",
              " '@LittleMix Follow me Please :)  This is my Big Dream :)',\n",
              " '@Elemaaan  oley be :D',\n",
              " '\"@CowokAddict: Mama is the only reason why I stand stronger up to now! :)\"',\n",
              " '@MacatangayApril  follow @jnlazts &amp; http://t.co/RCvcYYO0Iq follow u back :)',\n",
              " '@tk_kjk_kndr @boukendreamer OH MY GOD MISTY, MY BABY IS SO CUTE!!! :D',\n",
              " '@BhaktisBanter \\n\\nI love blue :)\\n#FlipkartFashionFriday http://t.co/HnbinH35ES',\n",
              " \"@CarcassDrop Woohoo! Can't wait :) Have you signed up yet, or still thinking about it? MKa\",\n",
              " 'i have liam access now :))',\n",
              " '@SyuhxdxTengku most welcome :)',\n",
              " 'Stats for the day have arrived. 1 new follower and NO unfollowers :) via http://t.co/p6K6SiH58a.',\n",
              " \"@sluttywife2 you shouldn't be surprised...you have an amazing figure :)\",\n",
              " '#FollowFriday @murtishaw @aqui_fr @FRTechStartups for being top influencers in my community this week :)',\n",
              " '#HappyBirthdayEmilyBett @emilybett :) Wishing you all the best you beautiful,sweet,talented,amazing… https://t.co/humtC1tr3I',\n",
              " '2 plans for the day down the drain great :):',\n",
              " '@x123456789tine @5SOS_FAHUpdates gotta love timezones :p',\n",
              " 'are your parents proud of you — lol, not in the least :D maybe sometimes they get happy because of my grades, al... http://t.co/bJjeGIOOGU',\n",
              " 'Grande :)  https://t.co/gsaaxNpR8u',\n",
              " 'Manila_bro has chosen to follow me on Twitter! http://t.co/lKXZWXN1fb. Thanks for the follow :)',\n",
              " \"@syazwanzainal sure let me know when you're around..at this side of the world #eh u too take care :-)\",\n",
              " '#FollowFriday @michae1green @superninjaalan @Doug_Laney for being top new followers in my community this week :)',\n",
              " 'finally the fucking weekend :)',\n",
              " 'REAL :)',\n",
              " '@LoLEsportspedia thanks :D',\n",
              " 'Hi BAM ! @BarsAndMelody \\nCan you follow my bestfriend @969Horan696 ? \\nShe loves you a lot :) \\nSee you in Warsaw &lt;3 \\nLove you &lt;3 x45',\n",
              " 'YES! I Joined #HushedCallWithFraydoe for a call &amp; gift from @_Fraydoe &lt;3 Gotta Get @HushedApp :D http://t.co/VaLVe8omdT',\n",
              " '@YasLarry yeahhh :)',\n",
              " 'can I DM you &amp; make your night better :)))',\n",
              " 'just joined the #HushedPinWithSammy Event :D Might get to Text with @SammyWilk for a day! Luv U @HushedApp http://t.co/kGfgawdHy9',\n",
              " 'Would really appreciate it if you share this video around :) https://t.co/MhK3B3wOpQ',\n",
              " 'Hello :) Get Youth Job Opportunities follow &gt;&gt; @tolajobjobs @xhebenkewu_9920',\n",
              " '@TomParker oh wow!! That is beautiful tom :)',\n",
              " 'Love You @darlingIXHAI22 @SyreenAnne :)) https://t.co/wx7yRrE7sV',\n",
              " 'I added a video to a @YouTube playlist http://t.co/HVVPhSYakA im back on twitch and today it going to be league :) - 1 / 3',\n",
              " '#FollowFriday @AmericanOGrain @PecomeP @APaulicand for being top supports in my community this week :)',\n",
              " '@ZaynZaynmalik30  follow @jnlazts &amp; http://t.co/RCvcYYO0Iq follow u back :)',\n",
              " \"Gym Monday can't wait :). Likes\",\n",
              " \"@HarNiLiZaLouis Hey, here's your invite to join Scope as an influencer :)  http://t.co/rZgZtQ2fJT\",\n",
              " 'Those friends know themselves :)',\n",
              " 'waiting for nudes :-)',\n",
              " '@JacobWhitesides go sleep u ! :)))))))))',\n",
              " 'Stats for the day have arrived. 1 new follower and NO unfollowers :) via http://t.co/RB8pMNgMEo.',\n",
              " 'My birthday is a week today! :D',\n",
              " \"@metalgear_jp @Kojima_Hideo I want you're T-shirts ! They are so cool ! :D\",\n",
              " '@AxeRade haw phela if am not looking like Mom obviously am looking like him :)',\n",
              " '@zaynmalik prince charming on stage :) x https://t.co/OnVFhzt5fZ',\n",
              " 'i have really good luck :)',\n",
              " 'Stats for the day have arrived. 1 new follower and NO unfollowers :) via http://t.co/XzsOGaC4zK.',\n",
              " '#FollowFriday @straz_das @DCarsonCPA @GH813600 for being top engaged members in my community this week :)',\n",
              " '@twentyonepilots @fujirock_jp tylers hipster glasses :D',\n",
              " '@MartyRafenstein \\n\\nHey Marty !! Glad to see on Twitter. :)',\n",
              " '@UKBusinessLunch Hi we will be joining you again today :)',\n",
              " '@LAfitnessUKhelp done thanks :-)',\n",
              " 'Its already afternoon, lets read Al Kahfi before the day finish :)',\n",
              " 'OhmyG! yaya dub @mainedcm im done doing to stalk your ig accnt.. GONDOOO MOO TOLOGOOO :) HAHA',\n",
              " \"@rozbabes Here's your invite to become a Scope influencer :) Details here: http://t.co/ipJ2yOiGet\",\n",
              " '#FollowFriday @NGourd @Locita @D_Robert_Kelly for being top influencers in my community this week :)',\n",
              " '@kevinthewhippet @Cassie_Spaniel @Bracken_Nelson @BellisimoBella1 @SpanielHarry thanks :) zzz xx',\n",
              " 'Physiotherapy Friday is my hashtag for today. Custom! :-)',\n",
              " '@Cjlopez21 you know I will 💪 Monica and I miss you to, yeah sounds good to me :)',\n",
              " '\"Good morning, beautiful :)\" That\\'s all it takes.',\n",
              " 'Hi BAM ! @BarsAndMelody \\nCan you follow my bestfriend @969Horan696 ? \\nShe loves you a lot :) \\nSee you in Warsaw &lt;3 \\nLove you &lt;3 x43',\n",
              " '@MandaScapinello oh yeah?? I am definitely going to try it tonight then! :) we took your advice too! We are in Treviso now!',\n",
              " '@morallosanthony  follow @jnlazts &amp; http://t.co/RCvcYYO0Iq follow u back :)',\n",
              " \"@NIKKIERIOZZI Hi! Would you like an @imPastel concert? Let me know your city and country and I'll start working on it! Thanks :)\",\n",
              " 'Fine, \\n...Have a gorgeous Friday, friend!!..; xo..-:)) https://t.co/JmpkZP2DaI',\n",
              " 'Oven roasted garlic in olive oil, sun dried tomatoes, some dried basil, and century tuna :) https://t.co/EsCc9QhLob',\n",
              " '@HostMyOffice @NigelPWhittaker @lemezma @TWBC_Business @_TheBunkerJL Right back atchya!  Have a great day everyone :)',\n",
              " \"@TeamTall17 @FlashHayer  but doesn't even follow back :-)\",\n",
              " 'The future is almost here then :) https://t.co/rolE3ZCL97',\n",
              " '#FollowFriday @Michelploria @MyFrenchCity @jasoncreation for being top new followers in my community this week :)',\n",
              " 'No chance :)',\n",
              " '@ChiAB2486 @MrCliveC @PCDKirkwood @DC_ARVSgt @COPS_President @EmWilliamsCCCU @LauraRGallagher @Hall11Kate @LaMinx541 @JohnTarbet71 cheers :)',\n",
              " '@thatguycalledP go po for ice cream :))',\n",
              " '@19strawberry66 I agree 100% :)',\n",
              " '@SpazzyTsukihara hehehehe thats the point :p',\n",
              " '@KalinWhite next time just stay home :)',\n",
              " '@Gculloty87 thanks :)',\n",
              " '#FollowFriday @digitalplace2be @intlboost @_lafontpresse for being top supports in my community this week :)',\n",
              " '@stayfaboo it will be up soon, i promise :)',\n",
              " 'Web Whatsapp volta a funcionar com iPhone jailbroken. :-)',\n",
              " '@crustyolddeen (I plan on watching it later) at 34 mins Leia appears as a hologram from R2D2 w a message for Obi Wan as he sits w Luke :)',\n",
              " '@Mburu__ Inter 3 UCL, Arsenal... Small team, Right! :)',\n",
              " 'Just passing by :) 🚂 (@ Dewsbury Railway Station (DEW) - @nationalrailenq in Dewsbury, West Yorkshire) https://t.co/DvBssHbrfx',\n",
              " '@ClearlyArticle :) its 430 am smh',\n",
              " \"@uptommosass it's 9:25 am here :) I live in Scotland :) it's strange to imagine what?- Megan xx\",\n",
              " '@bookmyshow \\n\\n !\\n#MasaanToday\\n#MasaanToday\\n\\nA4.... Shweta Tripathi  \\n !\\n#MasaanToday\\n#MasaanToday\\n\\n-.:-) .-..,',\n",
              " '@WforWoman 5. Over 20 W kurtas! And my Mom has about half the number I have :D #WSaleLove',\n",
              " 'Ah! Hello back Larry! @TransworldBooks :) https://t.co/8XhjJb4jtH',\n",
              " 'Anyway my Friday is looking kinda gooood :)',\n",
              " '@jhun_hunyo  follow @jnlazts &amp; http://t.co/RCvcYYO0Iq follow u back :)',\n",
              " \"Lol. Well. That's life :) thank God it enn you  https://t.co/GLoCEIjGQQ\",\n",
              " '@OJBJ @holmesjsamuel surely this could be your warmup this morning ??? Coming on 15th to Bath :) xx',\n",
              " \"Dum Dum Andar - Ram Sampath, Sona Mohapatra &amp; Samantha Edwards Mein Tulane to razi razi, Wah! That's Josh :) http://t.co/ul8MARDfhm\",\n",
              " '@justinbieber :) always smile',\n",
              " '@darlakim_ picture. :)',\n",
              " \"@arsenalnewsasit Thanks again, your time 16.20 right? That's perfect timing for me here :).\",\n",
              " '#FollowFriday @IzywayLesExpats @na4innov @InXpressCoAzur for being top engaged members in my community this week :)',\n",
              " '@Juleeyaanaa i know :))',\n",
              " '#GiveItUp We have already given up our gas subsidy long back when this initiative was proposed.. Feeling so delighted having done that!! :)',\n",
              " '@dayloladay I missed this yesterday!! :-)',\n",
              " 'Hi BAM ! @BarsAndMelody \\nCan you follow my bestfriend @969Horan696 ? \\nShe loves you a lot :) \\nSee you in Warsaw &lt;3 \\nLove you &lt;3 x42',\n",
              " '@jaimeemelanie_ lmaoo! The best songs ever &lt;3 We shall have our own little throwback this week (y) :p',\n",
              " '@Clazziebritchas then go to the outlying islands, such as Cheung Chau, Mui Wo....totally different :))',\n",
              " \"#KFCkitchentours Kitchen is so clean. I'm totally amazed :) @KFC_India\",\n",
              " '@cybelxxx  follow @jnlazts &amp; http://t.co/RCvcYYO0Iq follow u back :)',\n",
              " '@Jana7380 on the cusp of testing the waters, hope yours is rewarding :)',\n",
              " '#FollowFriday @BroadcastBeat @InSunWeTrust @conseilsmkg for being top influencers in my community this week :)',\n",
              " \"arummzz: Let's go... I'll drive for you :p\\n\\n#traveling #traveler #yogyakarta #jeep #Indonesia #instamood… https://t.co/s7y4Ys5JeU\",\n",
              " 'Anyone wanna skype me? :D',\n",
              " '@agylyxa may i look so, bit i am a real nice friendly girl :-)',\n",
              " 'Im not like them. But i can pretend~ :)',\n",
              " 'watching where we are concert film :)',\n",
              " \"Congratulations @amisharanka95, you're the winner to our #CheesyDelights contest :)\\nPlease DM us your address and contact number!\",\n",
              " ':) Have a great weekend guys! https://t.co/DLDKLpeTAb',\n",
              " '#FollowFriday @CLARAROJASG @BF_P2C @MyBusiness_Plan for being top new followers in my community this week :)',\n",
              " '@PuaMagasiva it was cool seeing you film today! :)',\n",
              " \"Check out Email Marketing 24/7:  http://t.co/O5fjR7oEqk you won't regret if you buy it :)\",\n",
              " '@vineshpomal LOL. Come join us ... See u in around 14 hours if u leave now, without delays. :)',\n",
              " \"Actually very easy doing like this, it must be a station I guess where the train 'wd take at least an hour for shifting its engine etc :-)\",\n",
              " 'sunburn is peeling :-)',\n",
              " '@Sexdate_gratis Visit my blog http://t.co/UzOAqroWKx thanks :D',\n",
              " \"@TikoSD Hi! Would you like an @imPastel concert? Let me know your city and country and I'll start working on it! Thanks :)\",\n",
              " '@no1_razorstan then talk to me. I can help you :)',\n",
              " '\"@CassTheTrainer: A Huge &amp; Warm Welcome to @VodkaBlond :-))\"\\n\\n☆ finally we complete the triangle ! ☆',\n",
              " '@LucienneDiver I live in Northern Ireland. :) what sights have you seen?',\n",
              " '@Mecastor01Mica  follow @jnlazts &amp; http://t.co/RCvcYYO0Iq follow u back :)',\n",
              " '#FollowFriday @Z_Intl_Agency @Tivipro @compexly for being top supports in my community this week :)',\n",
              " 'Stats for the day have arrived. 1 new follower and NO unfollowers :) via http://t.co/6prugvmOuC.',\n",
              " '@imraina feeling smthng smthng fr u...lol...wanna hug u....XOXO...love uu jaann take care :* :)) &lt;3 :\")',\n",
              " 'thanks mom :)',\n",
              " 'Thanks #TopNewFollowers @BestOfFicPad @MrCFluegel @JeanMarcPN Happy to connect :)',\n",
              " \"@MooseAllain @MeatBingo that is the just most wonderful thing, it's made me feel all fluffy inside. Great pirouette, Moose :D\",\n",
              " \"@KristophCajon I have a trip to philly in December so after that :) I'd love to come out there dude.\",\n",
              " 'Hi BAM ! @BarsAndMelody \\nCan you follow my bestfriend @969Horan696 ? \\nShe loves you a lot :) \\nSee you in Warsaw &lt;3 \\nLove you &lt;3 x41',\n",
              " \"The question is flawed. Pain doesn't negate strength :)  https://t.co/77TbkS2Djw\",\n",
              " \"@ReflectKnives You went solo because these moves weren't being made :D\",\n",
              " 'hey my fav nirvana song is smells like teen spirit rip amy winehouse :-)))))',\n",
              " '#FollowFriday @CCIdeLYON @CCI_95 @CPNERI_ESIGROUP for being top engaged members in my community this week :)',\n",
              " \"Let's go... I'll drive for you :p\\n\\n#traveling #traveler #yogyakarta #jeep #Indonesia #instamood… https://t.co/s7y4Ys5JeU\",\n",
              " 'did we name the couple yet?? #TomHiddleston #ElizabethOlsen ?? #yaytheylookgreat :))',\n",
              " 'I love you all goodnight. Vid going up when I wake up you all with love this one :)',\n",
              " 'This weekend I am gonna shoot the lovely @NarakuBrock again &lt;3! Here a picture I made of her last time :D http://t.co/s3e2dmpt24',\n",
              " 'anyway :-)',\n",
              " 'Itty Bitty Teenie Bikini  :) http://t.co/A2oxW0ZI3g http://t.co/jn7KSfHwRc',\n",
              " 'I just joined the #HushedPinWithSammy Event :D Might get to Text with @SammyWilk for a day! Luv U @HushedApp http://t.co/czdow1i44W',\n",
              " 'Always so much fun when 4th hour gets together. :) \\n\\nEnding the night with ice cream and Xfiles. \\n\\nContent.',\n",
              " '@aangelayap easy :D',\n",
              " \"@NTtownend yes, be surprised if we don't see a bit of rain today... :)\",\n",
              " '@ReyesFraulein  follow @jnlazts &amp; http://t.co/RCvcYYO0Iq follow u back :)',\n",
              " 'To all @fatpunkstudio have a fabulous Friday and keep up the fantastic work!! :))',\n",
              " \"@justinbieber can you please follow me @caitecat1209 ♡♡♡♡ please jb follow me I love you always and forever. I'm a belieber ♡♡♡♡ :) I love u\",\n",
              " '#FollowFriday @DiploMix @CCI_entreprises @CCI_92 for being top influencers in my community this week :)',\n",
              " 'Morning all! :)',\n",
              " '@FranchiSeedsUK good to hear :)',\n",
              " \"@LusciousLyndee1 Nighty night! Don't let the bed bugs bite :D\",\n",
              " '@Bonsplansblog Very beautiful this bracelet! good idea :)',\n",
              " '@guywilliamsguy waiting for you at the foundry. Where you at?? :)',\n",
              " '@KalinWhite I like that game :)',\n",
              " \"@suzannepanter @kevinbacon @katosman Ah! Now it makes sense... Didn't see the pic on my effing phone last night. Woot :) x\",\n",
              " '@Derek_GTA Hi Derek, you could try using ParkShare in Gloucestershire http://t.co/qIF9AyAlkc :)',\n",
              " 'Aaaahhh man, this track is a traffic stress reliever. :)',\n",
              " '#FollowFriday @elevents2 @JoussotFrench_J @NYIBF for being top new followers in my community this week :)',\n",
              " \"@El1neW How're you today my dear? :)\",\n",
              " '@Jesutomisin I hear you guys want Arbeloa. :D',\n",
              " '@ShawnMendes turning 17 in 15 days...omg. at least we have only 3 years difference :)',\n",
              " '@matteomeacci Well, they say Europe is on the rise again, but I find that hard to believe :)',\n",
              " '@WforWoman #WSaleLove uncountable coz we love unlimited :)',\n",
              " 'Yes, of course :) #TeamPositive https://t.co/SaIX1VpFJF',\n",
              " 'yes i love :-) #AlDub',\n",
              " '@coffeebreak22 @LauRenArren @drparkave @JWKanyuira1969 @dheracing @RhoaChri @BarbaraBathurst @1cryingeye @willisteam :) ☕☕☕ Thank you Rita!',\n",
              " \"@mikerobb Hi there, could you please DM us further info and we'd be happy to help! :)\",\n",
              " '@24gooch on way my boy! :)',\n",
              " '@graphure I hope you will get a lot of nice gifts :D',\n",
              " 'Hi BAM ! @BarsAndMelody \\nCan you follow my bestfriend @969Horan696 ? \\nShe loves you a lot :) \\nSee you in Warsaw &lt;3 \\nLove you &lt;3 x40',\n",
              " '#FollowFriday @ACBM_SECEM @DCarsonCPA_NYC @PromosalonsInfo for being top supports in my community this week :)',\n",
              " 'So True!!  :)  https://t.co/N2ORwrOwhD',\n",
              " 'I added a video to a @YouTube playlist http://t.co/09GuSuMrNb im back on twitch and today it going to be league :) - 1 / 3',\n",
              " '@ZarlashtFaisal @Tabinda_Samar Sethi was HIGH ??? :)',\n",
              " '@IAm_Lennox exe skeem saam :)',\n",
              " 'These are the people who make me smile. :) @_pumpchkin_ @aka_pump @LilfrenchMsp @_Lishielou908_ http://t.co/iDdtACkA4K',\n",
              " '@CoSchedule Thanks for the invite. :)',\n",
              " '@SyedIHusain polite izzat :) \\nwese does she trust him? khawateen k sath selfies say to mana kar deya :)',\n",
              " \"Thank you @MovieTubePW that's my Friday evening sorted :-)\",\n",
              " '@nova_caneeee you smart :)))',\n",
              " '@vaalthepal :-) nice hair tbh',\n",
              " '5 years :) https://t.co/hJEhDmxuu9',\n",
              " 'jacob will there be a m&amp;g upgrade??:-)',\n",
              " '@heydonworks Nice tee man :)',\n",
              " 'Happy family vacation .. :D [pic] — https://t.co/HL0Fw8msf1',\n",
              " 'some sleep would be nice :-)',\n",
              " \"If you're reading this, you're beautiful. \\nLike this if you just read this :)\",\n",
              " 'Talking to One person .... Having Two Conversations :))))))))',\n",
              " 'skype was fun :-)',\n",
              " '@SoggyStones should be online :)',\n",
              " \"...because it's Friday :D (y) http://t.co/6rA4ZlpjO9\",\n",
              " '#FollowFriday @CCIFCcanada @AdamEvnmnt @boxcalf1 for being top engaged members in my community this week :)',\n",
              " 'Something to get your #Friday off to a great start :) Have a great day all! #Mclaren #FridayFeeling #TGIF http://t.co/LshgwcXsSv',\n",
              " '@AvinPera  follow @jnlazts &amp; http://t.co/RCvcYYO0Iq follow u back :)',\n",
              " 'square enix bissmillah ya Allah :)',\n",
              " \"@SephtonMark we're training #SocEnt startups at @TobaccoDockLon this week w/ @HelpingB - we'd love to have you drop in if youre arnd town :)\",\n",
              " '@HGVWolfie Basically you piss in a cup and they test it :)))',\n",
              " '@ellenRstewart where are you off to next? :)',\n",
              " '@IonSwitz @notch also, Twitter is terrible for complicated discussions :)',\n",
              " 'Snapchat me : LynetteLowe #snapchat #kikmenow #snapme #hot #snapchat #amazon #kikmeguys :) http://t.co/kd54m2IAm6',\n",
              " 'I am not looking forward to a 12 hour shift today :))))))',\n",
              " \"@ely83_ely definately agree that it's a growing sport. Drop me an email with details and we can see what we can do :-)\",\n",
              " 'My last rt is me :)',\n",
              " '...and the Rakyat will keep visiting your blog and reading your writing :) https://t.co/IMRy2BXuzd',\n",
              " \"@ryan2390 ever since I mentioned fly fishing the other day I'm getting follows and promoted posts about it lol cyber stalked! :-)\",\n",
              " '@Gurmeetramrahim #OurDaughtersOurPride #mypapamypride Proud of You Papa Coach :)',\n",
              " '@imarpita it was great talking to you :D',\n",
              " '@awaismarwat2011 never see positive kha u could also mention atleast they are going :)',\n",
              " 'Hi BAM ! @BarsAndMelody \\nCan you follow my bestfriend @969Horan696 ? \\nShe loves you a lot :) \\nSee you in Warsaw &lt;3 \\nLove you &lt;3 x39',\n",
              " \"@_pigglywiggly @Omundson The mango lassi's from Monty's are marvellous :D. Though I suspect that's not what you meant....\",\n",
              " '#FollowFriday @StayfanChemin @CCI_75 @aandreup for being top influencers in my community this week :)',\n",
              " '@Thakurain_ Haha. Yes. I have 24 hrs. The time has come to touch the Kepler 452b. Chalna hai ?? :D',\n",
              " '@iyah_mohamad  follow @jnlazts &amp; http://t.co/RCvcYYO0Iq follow u back :)',\n",
              " '@allygrrdo thankyou pretty! :)',\n",
              " '@PinkPeoniesBlog @helloprettysa definitely the Hazel Food Market in Brooklyn, Pta :) &gt;&gt; http://t.co/ySQkhNDo2B',\n",
              " 'still awake :))))',\n",
              " '@joiredve okayy :D',\n",
              " 'Awww thank you :)  https://t.co/9tSQv2DWVm',\n",
              " '@AR1961 ha! That does not surprise me in the least! Okay but will see doc this afternoon. Yorkshire is splendid though! :) xx',\n",
              " '@JRTurnerPhoto @davidqueenan @jameslturnbull spam folder: WOW! I have won a huge amount of $ I just need to travel to Nigeria to claim it :)',\n",
              " '@PERKSOFNIALLJH RTed! Good Luck :)',\n",
              " 'My legs hurt so bad :))))))))))))))))))',\n",
              " '@johnny_lopez96 I get mine Saturday :-))))',\n",
              " '@imafaithreyes thaaanks! December puhon. :))',\n",
              " 'happinessss~!! :))  https://t.co/slOn63OUeS',\n",
              " '@VaibhavVj78 @PayUmoney True that. Can you change TnC without prior notification? I could have used them last night. :-)',\n",
              " 'https://t.co/gYx34VfmkK and I  probably only find this funny at 2:22 am :-)',\n",
              " '@aliyaskates @yoshihikomkm Fat cos he probably ate Yuna :D :D :D',\n",
              " '@emmajaneparsons @CuriousMindsNW Have fun in Tameside :))',\n",
              " '@hydrcted what :-) did :-) i :-) do :-?',\n",
              " '@CharmingJedward you´re welcome!! :)',\n",
              " 'My Google+ account. :) http://t.co/R8jyDxlQyo',\n",
              " '@2SHYMC and they call scousers for everything! Hope you and Zoe are well mate :)',\n",
              " \"@RachelEvans_28 RIGHT!!!!!! I literally was like maybe u should get people who actually know what they're doing :-) @StudentTrip\",\n",
              " '|| Sameee~ \\n\\nRest well :) https://t.co/T6ZCo4NxDG',\n",
              " '@EdgarsLame happy birthday Edgar! I hope you have a good one and keep updating your travel log :)',\n",
              " 'Hello :D\\n@VikkFollows @Vikkstar123',\n",
              " '@MarreyJewAna bring Abes :)',\n",
              " 'Stats for the day have arrived. 2 new followers and NO unfollowers :) via http://t.co/xxlXs6xYwe.',\n",
              " 'someone talk to me :))',\n",
              " 'i will never be the same if we ever meet again :D',\n",
              " '@BBCSport come on man :D :D',\n",
              " '@prettyden15  follow @jnlazts &amp; http://t.co/RCvcYYO0Iq follow u back :)',\n",
              " 'Hi BAM ! @BarsAndMelody \\nCan you follow my bestfriend @969Horan696 ? \\nShe loves you a lot :) \\nSee you in Warsaw &lt;3 \\nLove you &lt;3 x38',\n",
              " \"@LivelyKaty *sighs dreamily at that pout and those 'come to bath' eyes!* :-) #quacketyquack\",\n",
              " '@_sunshinehoran_ happy birthday love :)',\n",
              " '@Brianscrooks @burwellitltd @manfrotto_tweet Cheers :-)',\n",
              " 'Funny how that happened when Phil was here too : )',\n",
              " \"@WMFireDogs I'd call 'em Del &amp; Rodders :) What else!\",\n",
              " '@ForkH Hi, may you like play my newest gamejam game, i would be very happy about it :) http://t.co/8J5voDDHcs',\n",
              " 'This is great! Irish literature is really inaccessible to most of us without Irish :)',\n",
              " '@BhaktisBanter @PallaviRuhail yeah! This is fun :) #FlipkartFashionFriday',\n",
              " 'Nice music :) Check it out! http://t.co/PEjHsORGrk',\n",
              " \"@_xRiya Strange Kareena's Fans Not Knowing Kareena's Fans :)\",\n",
              " 'Hello :) Get Youth Job Opportunities follow &gt;&gt; @tolajobjobs @e1d4c8e25ec844c',\n",
              " 'better :)',\n",
              " '@ArtForCause Cool. Will look for you there. :)',\n",
              " ':)) beautiful http://t.co/F8V3McI39e',\n",
              " \"I'm playing Brain Dots : ) #BrainDots\\nhttp://t.co/cHl12JvuxN http://t.co/GGgU9PYEjI\",\n",
              " \"@ScreamQueenLR That's fair enough :) I wouldn't rush back either.\",\n",
              " 'Brandi 18 on my FB DROP A SELFIE :) was fun https://t.co/TRoroeS4FK',\n",
              " '@kthrnbyln  follow @jnlazts &amp; http://t.co/RCvcYYO0Iq follow u back :)',\n",
              " 'During a carnival men put masks over their masks. Xavier Forneret :-)',\n",
              " '@jennnnifer29 Jennifer, Check my site if u wanna get FREE 50.000 8 Ball Pool Coins. Thank you :)',\n",
              " '@trisha1234 Beautiful edit, Trish! :) Loved it! ♥',\n",
              " \"Gratefulness = Happiness :) Post three things you're grateful for today in the comments\",\n",
              " 'Love to wakeup beside her &amp; have some real dirty,dirty sex :-)\\n\\nhttp://t.co/dPLYrlTjil',\n",
              " \"@literalwt LMAOOO SAME its so hot 😤😤 like louis :) he's so hot !!!!!!!!\",\n",
              " \"@MariaGM350 Just gonna throw idea at you cause if they're bad it will inspire you to think of something much better.  :-)\",\n",
              " '#FF The Best Twoofs to follow have a GR8 wkend :)\\n@allpawone\\n@Hungry_Hounds\\n@DDWalks\\n@HealthyHounds4U\\n@pawsforawalk\\nhttp://t.co/fIYPR3t2Ai',\n",
              " '@cinnamoniboni I wish I could! Maybe one year :)',\n",
              " 'hey guys! how are you ? :)',\n",
              " 'I think I need to go to bed kind of exhausted good night twitter :)',\n",
              " '@renukaVyavahare Thank you so much.. So glad you liked it.. :-)',\n",
              " 'It will all get better in time. :)',\n",
              " \"@Chelt52 Kind words - thank you very much! It's @SueRyderLCH that does so much good in the #Cheltenham area :)\",\n",
              " 'Hi beautiful follow me please? :) @iggyazalea @lanadelrey @megannicole @madisonellebeer @tiffanyalvord $9',\n",
              " '@astro_lass They weren’t kale crisps :-) Why ruin a good thing?',\n",
              " 'Hi BAM ! @BarsAndMelody \\nCan you follow my bestfriend @969Horan696 ? \\nShe loves you a lot :) \\nSee you in Warsaw &lt;3 \\nLove you &lt;3 x37',\n",
              " '@mykidsloveme2 Open Worldwide :)',\n",
              " 'get the fuck outta here :D https://t.co/neJd4AaQWZ',\n",
              " \"@StreetFighter Cool down guys. It's #SFVBeta, not release. They work on it. :)\",\n",
              " '@CrazyLeoNet @Woodslenny @MSportLtd @FordPerformance It really looks Vantastic :) @VBGIE @FordOwnersClub @autocultureirl',\n",
              " 'Today I finally have time to work on Xcylin again :D',\n",
              " '@UPCIreland Thank you. So if its a bundle shows the internet price no phone than realisticly only paying for Net?:)',\n",
              " '@PublicProtector :) True Education is the most powerful weapon which you can use to change the world,\"Nelson Mandela',\n",
              " '@agavrilychev2  follow @jnlazts &amp; http://t.co/RCvcYYO0Iq follow u back :)',\n",
              " \"Most recent trip to J&amp;K; totally loved it :D\\nAnd that's 'Chenab' there which flows into Pakistan.\\n#incredibleindia http://t.co/1EHnC4mxZL\",\n",
              " 'My #TeenChoice for #ChoiceInternationalArtist is #SuperJunior! :)',\n",
              " 'Caught my first salmon today :D',\n",
              " '@annaelerihart - happy Friday! Just checking in to see if you enjoyed our Super-Blend? :)',\n",
              " \"@MrsManfyDiston Thanks for following! Do get in touch if you'd like any more info about our project: youth@bipolaruk.org.uk :)\",\n",
              " \"Please go check out my awesome friend's stream at http://t.co/uVBD0iDwDW ! He's a fantastic artist. :)\",\n",
              " 'My Alma Mater :) #HighSchoolDays #ClientVisit :) @ Faith Christian School https://t.co/OiWrwoFuY1',\n",
              " 'Good luck to #LizaMinnelli for her upcoming UK appearances :-) @GaryJHorrocks @ScottGorenstein http://t.co/r1ExrOTFBP',\n",
              " \"@messiholic_ Lol 😄😄really?  I can't believe a beautiful girl like you are single :p\",\n",
              " 'I will never be listening to The Hills every again :-)',\n",
              " '@dantoml why would you listen to Beats 1? What went wrong in your life? :)',\n",
              " \"@concertina226 Haha that's great :)\",\n",
              " 'Getting everything ready for my Natural Pefumery Workshop at Neals Yard, Covent Garden - tomorrow :) http://t.co/WYEE7cbqOZ',\n",
              " '@grannaHarmony fback :) indo harmos',\n",
              " '@ewoksurewok just Americano :)',\n",
              " 'Why am I up :-))',\n",
              " '@SquadKathNiels @bernardokath i LOVE the way you are :) &lt;3',\n",
              " '@thevaas @Vasan_Bala ALWAYS Remember :)',\n",
              " 'Aww! Thank you. Beautiful pic :D  https://t.co/044Hfi99Rc',\n",
              " '@Podolski10 heads up! :)',\n",
              " '@jessicaswift_13 Hi! Saw who u follow and thought u might like \"Dark\" https://t.co/QSaoyO8CIk .Plz let us know what u think :)',\n",
              " 'Smart, handshome, cute juga :D https://t.co/7DC0LU3j9k',\n",
              " '@LauraSummersNow @STWevents hurray! Looking forward to meeting you too :)',\n",
              " '@tomokawaiix  follow @jnlazts &amp; http://t.co/RCvcYYO0Iq follow u back :)',\n",
              " '@liilss cause hate my course lol but I cant decide what I want to change to so Im just going to take some time off, save $$, maybe travel :)',\n",
              " \"@WoollyWormhead It's on my to do list if I'm still at the show :)\",\n",
              " '@realiseagency you too :)',\n",
              " \"@LoreTam Hi! Would you like an @imPastel concert? Let me know your city and country and I'll start working on it! Thanks :)\",\n",
              " '@jojoaro0618 @danisnotonfire @AmazingPhil Oh awesome, thank you so much! :)',\n",
              " \"@CaityYoungblood you're perfect. :)\",\n",
              " '@lcfcset Hiya, if you email our web exec, Loryn.Good@lincs-chamber.co.uk, she will be able to help you. :)',\n",
              " ':) enjoy photos from before/when my mom was a baby http://t.co/1wqZetbvQu',\n",
              " 'BIG thx @bikechainricci 4 the kind support @SHINEUKCharity @ShineBalloons. GOOD LUCK!! :-)',\n",
              " '\"Chinas actually a girl.\\nThat or a homosexual.\"\\n\"But we will love him/her either way.\" \\n:D\\n#HyungBot',\n",
              " '@Gamer1811 cause i likes him a Lot :)',\n",
              " '@mattghouse give me some time fam, I got some things in mind :-)',\n",
              " \"Thanks God it's friday :) #jgh.\",\n",
              " '@ashtonparsonsuk @LypsylUK how lovely! :)',\n",
              " '@heartsouthwest #timetunnel 1982?. Not quite sure if my radio is set at heart :)',\n",
              " '@jackgilinsky Hiii Jack :) ily ✨✨✨',\n",
              " '@smartcookiesam @Confarreo I played dominoes in a pub once. It all got quite heated! Enjoyed it though :D',\n",
              " '@hostclubhowell no prob!:)',\n",
              " '@danvpeterson Enjoy! And sorry about my hastily typed message! :)',\n",
              " '#FF @dreamshakes @marketsmatter @MrsMarketUK @CheshireLadders @Streetzine @jewellery_bank @luvthenorth444 @BlueAppleHeroes thank you :-)',\n",
              " 'Can I just say a big thank you to the person who came up with the idea of screenshotting :-)',\n",
              " '@AshrafUzma @RTAluvedAfridi \\nWe are not true Pakistanis :p',\n",
              " '@Raj_Poot_ :) ... mention not',\n",
              " 'Hi BAM ! @BarsAndMelody \\nCan you follow my bestfriend @969Horan696 ? \\nShe loves you a lot :) \\nSee you in Warsaw &lt;3 \\nLove you &lt;3 x36',\n",
              " '3Points for #DreamTeam Gooo BAILEY! :) #PBB737Gold @PBBabscbn',\n",
              " '@crisasingson07 Thank you :)',\n",
              " '@addictionguy You drank because of it? :)',\n",
              " '@ernezpjy its old pic :)',\n",
              " '@sharleneyupasc1  follow @jnlazts &amp; http://t.co/RCvcYYO0Iq follow u back :)',\n",
              " \"I haven't gotten any sleep and I have to be up in 3 1/2 hours :)))))))))))))))\",\n",
              " 'Off to #Welsh #Wales today. Yippee! :-) http://t.co/BdaXV35FYE',\n",
              " '@stalkerIDOL_ done :)',\n",
              " '@fwmkian HAPPY BIRTHDAY BABY 💟💟 I MISS YOU SO MUCH AND LOVE YOU SO MUCH :))',\n",
              " 'thanks bro ! :D x',\n",
              " 'thats my lord :) http://t.co/7O5XaValPN',\n",
              " 'Sweet :) https://t.co/025WcVvnxe',\n",
              " '@riprap1 We like you Michael :) Thanks for your kind words! Cheers, Em',\n",
              " \"@coxn8r Morning to you too? Not really :D U're already having fun cause its weekend right? :D ure in the future ;)) Have an amazing night\",\n",
              " 'Waiting for the people to call him BIGOT :p  https://t.co/WGvM79ySv1',\n",
              " '@yezzer It usually is :) Are you doing front or back squats?',\n",
              " '@BeingSobtian1 it was so much fun really enjoyed it hope next contest will be coming soon :-) :-) :-)',\n",
              " 'Dobar dan :)\\nThe Brand New Heavies #musicology2015 #day2 http://t.co/ejDalpfixn',\n",
              " '@Chileeers looks like a great way to spend a Friday afternoon! Enjoy your marathon on iflix! :)',\n",
              " '@itsAllieFx If you need someone to talk to, I am always here :) Keep your head up.',\n",
              " 'Officially Graduated :D http://t.co/B1jXLiL3Pi',\n",
              " \"I'm so glad! :D Did you cry? ;__; https://t.co/YbgI6MoxnE\",\n",
              " '@Afl2277 thanks. :)',\n",
              " '@applewriter yep, you *are* an expert on bisexuality :) Good luck!',\n",
              " '@jiarpi20 minal aidzin yo pi :D',\n",
              " '@imlexapadilla  follow @jnlazts &amp; http://t.co/RCvcYYO0Iq follow u back :)',\n",
              " '@Riverford The plan is: read our brand new cook book and figure out what to make for dinner tonight! :)',\n",
              " \"@snxy lol it's a tough choice tbh i really do like every song, just some more than others :p\",\n",
              " '@JessopJill welcome... :-) :-)',\n",
              " \"chill at SMU oval :D\\n'Coz I am a of basketball player now. Whahahaha!\\n #SOAmazing https://t.co/Y3sDCZ6RMk\",\n",
              " \"The moment I decide to log onto the account I haven't been on in years is the moment I saw the best thing ever :) http://t.co/pu6B5jodur\",\n",
              " '@WforWoman \\nA5. If I was a Girl,\\nMy Wardrobe would only and only have \"W\" in it :))\\n#WSaleLove',\n",
              " 'new user! :-)',\n",
              " '@umar_farouk7 Welcome back to #TeamRed :)',\n",
              " \"@emily_etc oh apparently I'm already a member ! Lol! Hopefully be able to come depends on the time !  :D\",\n",
              " '@Kayleigh_A all greatly appreciated! :)',\n",
              " '@lnnamnd hi! we made some changes in our design, hope you like it :) https://t.co/EXt098Yq1b',\n",
              " '@makotobio ahhh yes do that! :D',\n",
              " '7th CinePambata Video Festival: Complete mechanics and official entry form may be downloaded from http://t.co/YaYzAbtHtX. Sali na! :D',\n",
              " 'Hello :) Get Youth Job Opportunities follow &gt;&gt; @tolajobjobs @NdumisoNkosi5',\n",
              " '@WooDotaMel  follow @jnlazts &amp; http://t.co/RCvcYYO0Iq follow u back :)',\n",
              " 'when ur moms getting u swishers and ur copping Monday :) http://t.co/qEdmlJLRNt',\n",
              " 'My Song of the Week is Ducktails - Surreal Exposure #SOTW https://t.co/BeXVWh7zIR Jingly jangly loveliness! :-)',\n",
              " \"It's the #Halesowen #BlackCountryFair tomorrow! Are any of our followers going? Come and say hello - our stand is on the High Street :-)\",\n",
              " 'Good luck to @georgeeJgibsonn in the assessments today! :)  https://t.co/POpXUSh1ab',\n",
              " '@etherealmind such mental strength! :D',\n",
              " '@TsMagicCandy Looking beautiful. You have an amazing body. YOu just ooze sex appeal :) xx',\n",
              " 'HOME - AmassiveoverdoseofshipS - http://t.co/2q38loegUq\\nlatest vid from up my way..enjoy and visit my site..:)',\n",
              " '@TheEmblaze @cnni ISIS Chan!! :D',\n",
              " '@SonyMAX T&amp; C noted :) #PKwalaSawaal',\n",
              " 'Stats for the day have arrived. 1 new follower and NO unfollowers :) via http://t.co/uo3T40FtCQ.',\n",
              " '@GemmaPriceUK Thanks for the follow Gemma, and enjoy New Orleans :)',\n",
              " '@POTUS #fever finally caught up with me \\\\o/ \\\\o/ \\\\o/ .. #GESKenya \\n#ObamaInKenya #MagicalKenya :-)\\n#GreatKenya #AllGoodThingsKE',\n",
              " 'It is funny, that the next anime that had it, was Umaru :D',\n",
              " '@sothcott @CaseyBatchelor @BondedByBlood2 great singer too :)',\n",
              " '@xx_dayan  follow @jnlazts &amp; http://t.co/RCvcYYO0Iq follow u back :)',\n",
              " '@amiibofiguresuk looks like GAME ships to the US again! Got my order in :)',\n",
              " \"she takes over my room &amp; my car once I'm gone cool :) http://t.co/kQxSNy0xK2\",\n",
              " 'going to be streaming soon :)',\n",
              " '@icy_suan thanks :)',\n",
              " \"@valenaty_4ever Hi! Would you like an @imPastel concert? Let me know your city and country and I'll start working on it! Thanks :)\",\n",
              " '@naqvisahab1 \\n\\nHahaha everyone has a fun story related to that song. We got labeled as the worst batch by the principal due to it :p',\n",
              " '@jess_o_lover101 you will get the same stuff like in March. Release that one first before starting a new one :)',\n",
              " '#FF TOP Twoofs have a Wooftastic Wkend Guys :) \\n@MerlynTheCollie\\n@BarksBunnies\\n@JessPals \\n@MollySniffs\\n@WobblyCollie\\nhttp://t.co/fIYPR3t2Ai',\n",
              " '@DescentHypnosis Well received but not necessary. :) https://t.co/mRAJMGm0Nm',\n",
              " '@ayushmannk long time no see :/ where have you been ? :p',\n",
              " \"I'll regret rn tomorrow morning but its whatever :)\",\n",
              " '@BadBoyBunny @Clawzskunk That hat :D',\n",
              " '@bergsplace @RunJumpScrap @thatchamdad @simplybeingmum @loopyrach @Deardads1979 @mummyvsdaddy @harryshonestmum thank you :)',\n",
              " 'there will never love again in your life there is\\nonly a success :)',\n",
              " '@MikeyyGee_562 @thatdudegalvan_ abstinence :)',\n",
              " '@samm_amberr Then there will be a few \"Wtf this never happened?!!\" moments that you may or may not like. But there\\'s a surprise thrown in :D',\n",
              " 'Start middle and finished :) http://t.co/k715EtENT3',\n",
              " 'Im back Twitter.. :-)',\n",
              " '@JackJackJohnson ended up happy. :)))',\n",
              " '@marthasydenham @alexxdouglas @wordpressdotcom Lovely stuff. This needs to be repeated, relentlessly, for approximately the next 5 years. :)',\n",
              " '@Smileformeacc  *hug* you have many :)',\n",
              " '@RuneScape @OldSchoolRS on OldSchool Runescape :)',\n",
              " '@ourseasidebaby @MrsRobinsonme Thanks for the shout out! Have a wonderful weekend :)',\n",
              " 'REST DAY!! :) https://t.co/yqaWKHap1i',\n",
              " 'LOVELY DAAAY! :D',\n",
              " '#JUMMA_MUBARIK &lt;3 &lt;3 &lt;3 \\nto aLL #FrNds  :* \\n          #StaY_BlesseD :) :) :* — feeling blessed',\n",
              " 'I can sense it :)',\n",
              " '@LittleMissLilia @EmInTrouble Awww, they are pussycats! :-) xx',\n",
              " '@min0rthreat_ hope everything is going great!! :-) lol',\n",
              " '@PinkPeoniesBlog @helloprettysa Market on Main just launched in Pretoria. :)',\n",
              " \"'Do I care??'\\n'I care...'\\nhttps://t.co/gL6rL6mR70\\n#fahrinahmad #tengkuaaronshah #eksperimencinta :D\",\n",
              " 'Tykkäsin @YouTube-videosta http://t.co/p5dAKaodMx 200sub special!! | 15e PaysafeCard Giveaway!! :) (LUE DESC!!!)',\n",
              " '2 months waiting and I finally have my @Jack_Septic_Eye hoodie! :) eeeep! Yay! #SoHappyRightNow',\n",
              " '@FilikIrisha mmmmmm can I c them lovely azz-sets babe :-)',\n",
              " '@normabattle thx for the feedback. Glad you gained value from it. :)',\n",
              " '@Michael5SOS good night lovely, I hope you have a peaceful nights rest, and feel refreshed when you wake up, sweet dreams :)',\n",
              " \"@OldManGamin72 I'll never get used to that, but thank you very much. :)\",\n",
              " '@thinkingdifrnt Thanks Manthan! Stay tuned with us :)',\n",
              " '@blogadda Freshness is the beautiful smile of my mother &amp; the determination to make the most of my day :)\\n\\n#MaxFreshMove',\n",
              " \"I'm playing Brain Dots : ) #BrainDots\\nhttp://t.co/MifDDs7CQS http://t.co/WtIWoeATPj\",\n",
              " '@JamesBourne PLEASE JAMES WHAT YOU THINK OF MY BEAUTIFUL GIRLS ARE THE LONELIEST TATTOO? You have changed my life. :) http://t.co/7ywV5U8sGU',\n",
              " 'Hi ! Girls :).wish you all a Happy #Friday.and a #magnificent #fantastic W/E.@LoriShemek @thebikinichef @AgingBackwards @pilatesbodynyc ♡♥♡♥',\n",
              " '@rskdance2011 @southasianartuk @Keranjeet we achieved it together! Thank you Rashmi for your time, dedication and complete inspiration!! :)',\n",
              " '#FF #HappyFriday @szekifer @phattony138 @djchiavistelli @DJ_CharlieD @Paul___Rayner the weekend is nearly here :-)',\n",
              " '@Biblioticaa I only retweeted :)',\n",
              " \"@naturalsystah It will be updated soon I'm sure. If you sign in you can set up text alerts :) |DA\",\n",
              " 'Something new :D http://t.co/3Ftb0woQhM',\n",
              " 'Dang that is some rad @AbzuGame #fanart! :D https://t.co/bI8k8tb9ht',\n",
              " '@HardcoreGooners @tashagunners @kirstyburns3 @aprilburton21 @liztc2 @Miss_Boots1 @zannatur @NativeNoddy @NatG_22 @Ms_T_P CHEERS #TGIF :-)',\n",
              " 'Massive congrats to Niamh Fennell here :)  Journalism Graduate Lands Dream Job Copying &amp; Pasting Tweets http://t.co/3db8Bj5trk',\n",
              " '@ice_crystal @Elbow @MeatBingo @govindajeggy Thank you! :)',\n",
              " 'Stats for the day have arrived. 5 new followers and NO unfollowers :) via http://t.co/KfqcXZSVOT.',\n",
              " '@mrkennyt90 Yesss I am thank you :D',\n",
              " 'I have Ariana grande Selena Gomez Louis tomlinson Rita  Liam Payne \\nCaradelevingne 🌷I trade solo dm :)',\n",
              " '@DomSequitur tired. But fine :) you??',\n",
              " '@ohvdqohcdjroc Nope you can definitely still apply for this year if you want to :D #iamCA',\n",
              " '@ashleylynch @wetsprocket Ah, found it, thanks :)',\n",
              " '@BOYFI_MW aftie :p',\n",
              " 'Goodmorning :)',\n",
              " '@AnneMOrbs  follow @jnlazts &amp; http://t.co/RCvcYYO0Iq follow u back :)',\n",
              " '@bjoernknafla @s_whiteant that’s EXACTLY the look I’m going for :D',\n",
              " '#ProKabaddi Koel Mallick @YourKoel recites the \"National Anthem\" for @StarSportsIndia On Day-6!!:) http://t.co/ORqau4PvVz',\n",
              " '#YourNaturalLeaders and #YoungNaturalLeaders\\nMon27July #Cumbria UK :) @yournaturallead \\n\\n&amp; #Flockstars Thur30July ITV\\nhttp://t.co/lYxDIByo2o',\n",
              " 'For most of you it is #GoodMorning but for me it is #GoodNight...\\n#sleeptight for me and #haveagoodday for you!  :)',\n",
              " 'Only one leg on September. So perhaps BB will promote the full album on September :D\\nhttp://t.co/ZV1HdZB7Nm',\n",
              " 'I still fully intend to write as many game designs as possible while there. And an attack plan for the next 6 months. &gt;:D',\n",
              " 'To all the birds out there, come here and join us for a little fun :) #teamAdmicro http://t.co/35EZmlW16u',\n",
              " '@theCIGirl @LeRoiHaptalon @stpierjane @HeadwayGsy @cheshiregsy #FridayDownpour - hope it clears for the wkend, have a good one :)',\n",
              " 'time for sleep :)',\n",
              " \"That's three words! But then again, that's what Rohit does to you :D https://t.co/YacazN2T0h\",\n",
              " '@XxGoodGoddessxX you are such a gorgeous queen.... my god :)',\n",
              " 'The long wait is over :)\\n#OTWOLGrandTrailer',\n",
              " \"If you didn't get inspired by the sheer fact that Obama beat innumerable odds to become US President, ni shauri yako :-) #MemoToHaters\",\n",
              " 'Everyone should go drop @Pwincessly a follow on her stream :D http://t.co/WMAZJqO51K',\n",
              " '@nanavisitor  Happy Birthday for sunday! :) Hope you have a great day, lots of pampering and love!',\n",
              " \"@KingCo915 t'was great! thank you! :)\",\n",
              " \"i'm going for the cabincrew interview in langkawi this 1st august :) please wish me luck @AirAsia @tonyfernandes http://t.co/EVJx7iu4W4\",\n",
              " '@buzylizzy1 @tlntweets @NutzAudio @LiPSMACKER_UK @instyle_UK @Jewellery4 @InterfloraUK @IcelandFoods @IloveHQ Thank you! You too :D',\n",
              " 'I will fulfil all your fantasies :) 👉 http://t.co/Bp1jrOakrB 👈💖 http://t.co/JtSNMUdpnF',\n",
              " '@virtuallykaren cool - thanks for thinking of me - hope all is well :-)',\n",
              " '@jet_cer  follow @jnlazts &amp; http://t.co/RCvcYYO0Iq follow u back :)',\n",
              " '@KrissyDClayton thank you so much babe :D',\n",
              " '5 ex-twelebs this side please :)',\n",
              " '@ohsexycyruz thanks bro ! :D x',\n",
              " '@TomParker have a great day :D',\n",
              " 'Makes so much sense :D LOL',\n",
              " '@BertolacciTweet .. we wait you :) against @Inter',\n",
              " '#ff @JaggedEdge1 @MrsHHundal @Hutch_PR @higginsrecruit @KioskAtThePark Have a great weekend all :)',\n",
              " '@UptownJavin @ChloeeElmoree @Eymvnique family &gt;&gt; friends :)',\n",
              " 'An apartment makeover? http://t.co/ctLa1jppdb great ideas for factory living :)',\n",
              " '@OrchardTeaRoom @madsenjewellery thanks &amp; you are very welcome, hope it all goes brilliantly.  :)',\n",
              " '@EmilyBett Happyyyyyy Birthdaaaaayyyy! :-)',\n",
              " '@momoismail9 come kill it for me :)',\n",
              " '@ZaloraID hi, im so interested about your internship program. But sadly, I cant access the Career Page. Can u help me with this issue? :)',\n",
              " '@dischanmedia Its sad to hear about this, thank you so much for the overwhelmingly beautiful games, thank you for your hard work. :)',\n",
              " '@Murrayyyyyyyy aha yesss! Who are you most looking forward to seeing?:)',\n",
              " 'Happy Friday you beauts! :) ♬ #FF @sophieintsticks @catecawley @Jon_Clifton78  @jasmoonbutterfl  @andreasson_ http://t.co/a794A3H7LV',\n",
              " '@halfwaytohemmo We do love to help! http://t.co/X31Iw7dile :) /E',\n",
              " '@BionsenBeauty would love to win this deo is faaaaaabulous! :D #FreebieFriday #aluminiumfree #stayfresh xx',\n",
              " '@MrLythgoe @MeatBingo Yes, and John :)',\n",
              " \"@ithloopwithcoco Thanks!   No worries, I'll navigate to your blog and check it out. :)\",\n",
              " '@zara_arsalan thnks progrmr :-)',\n",
              " \"@lewisssrg92 bet you do! Well I won't be getting any sleep it's a 9pm shift until 9am so it's quit hard work! But thank you :) xx\",\n",
              " '@arabicaah figures :-)',\n",
              " '@andreaholzner hardly surprising that roses inspire so much emotive poetry :)',\n",
              " '@R0CKMYDNA followed :)',\n",
              " '@iFLYflat I joined the @VirginAustralia #FrequentFlyer program :)',\n",
              " \"I always end up breaking down and apologizing when I shouldn't have to. fuck me for being too nice :-))))))))\",\n",
              " '@tonywhittaker Fabulous! Well we hope you all have a great day :-) ^KB',\n",
              " \"@MusicTubenl Hi! Would you like an @imPastel concert? Let me know your city and country and I'll start working on it! Thanks :)\",\n",
              " \"@ignitionphoto You're very welcome. :)\",\n",
              " '@HUNCOY Visit my blog http://t.co/UzOAqroWKx thanks :D',\n",
              " '@kunal8966 @Uber_Mumbai Did you enjoy the #LondonDairy #Icecream? Share with us the experience. :)',\n",
              " '@LeahCarla11  follow @jnlazts &amp; http://t.co/RCvcYYO0Iq follow u back :)',\n",
              " '@Playacreep I luv urs too :-)',\n",
              " '@craftbeercoll I have in the past. A hoodie covers a lot of sins. :)',\n",
              " \"@AstonMerrygold bet your excited :) :')  xxxxxxx good luck hope it get to number one\",\n",
              " \"@MSLJim You're welcome Jim! Made me chuckle on the train this morning :-) Happy Friday to you too!\",\n",
              " '@KageYashsa Shopping for a bit :p',\n",
              " '@JadeTheMong agreed haha :p',\n",
              " \"@BakingBar Happy Birthday! We're positive it will be full of cake :)\",\n",
              " '@Nobicate Doh! 500+ Subscribers are needed :) Please let us know once you reached this number.',\n",
              " \"@The_ScriptNinja I'm good thanks hope all well with you and yours :-)) xx\",\n",
              " 'Dry, hot, scorching summer #FF :) @infocffm @MediationMK @ExeterMediation @KentFMS @EssexMediation',\n",
              " '@tom_peters @pallavijha Maybe a younger woman has more stamina than you Tom&gt; :)',\n",
              " \"@digestdigital things aren't looking too great here either - can we expect anything less? lol! At least it's the weekend :)\",\n",
              " 'Finally get to be in bed. :) good night, tweeties!',\n",
              " '@anish_kochar @bangaloretrance Thanks guys! :)',\n",
              " '@alistairbeech FAB! Thank you for your support :)',\n",
              " '@TurnUpTexas I really dont I love you so much :)',\n",
              " '#FF follow her --&gt; \"@__KaraboM: 10 loners this side please :)\"\"',\n",
              " '@RiahanneNavarro and a charger :))',\n",
              " 'This is so me :-) http://t.co/9aqyX0UxuV',\n",
              " '@electricgecko (Introducing a new word vs. altering the understanding of a word) x spreading either = The Big Problem. :)',\n",
              " '@JAOlivar0731  follow @jnlazts &amp; http://t.co/RCvcYYO0Iq follow u back :)',\n",
              " '#FF my Wooftastic TWOOFS hope you have a supa dupa weekend :)\\n@MyPackofWolves\\n@Skythegsd\\n@helvellyn\\n@BennyBoygr\\nhttp://t.co/fIYPR3t2Ai',\n",
              " '@clivewalker near enough to Dartmoor :)',\n",
              " \"@buymobiles_help I'm gonna stay with the gold colour. Hopefully it will come soon. Thank you anyway :)\",\n",
              " '@Taylor_Marisa Follow back ? :)',\n",
              " '@ijn_mikky yay ok!!! :D',\n",
              " \"Someday we'll know. :))\",\n",
              " '@Smiling_Girly_  U r my dii n i cant forget my Sis :)',\n",
              " 'Jgh fr. smf &amp; Ft, W/ My girl. &lt;3 :)',\n",
              " 'maybe we can get some japanese import hello kitty matching stationary :)',\n",
              " 'The weekend is drawing close.  What are your plans ? :D http://t.co/ag4r421hF1',\n",
              " '@peterlizmaher Hi! Saw who u follow and thought u might like \"Dark\" https://t.co/aloXWsqdjh .Plz let us know what u think :)',\n",
              " 'AND HELLO TWITTER, MY ACCOUNT IS BROKEN AGAIN :)',\n",
              " 'Hi @NJES44, thanks for connecting. We specialise in thermal imaging surveys – here if you need us :)',\n",
              " '@DrNomanSheikh nice :)',\n",
              " 'Please follow me back @1DThisIsUs @onedirection :) x *10',\n",
              " 'Hi I want to get connected with you @koreacholics :) as I am planning to come to South Korea',\n",
              " '@Aremay oh you and your FACTS :p',\n",
              " \"I'd planned to do a nice scamper but I slept through my alarm. For two hours. I suppose I needed the sleep so I ain't mad :)\",\n",
              " \"@alanessyahmad Chweina... xD  Jotzh :D Dude... go to school and don't waste your time on twitter.\",\n",
              " '@stellaandlouise hiya! Yep our show takes place completely under cover. Worth bringing coat for beforehand tho as FOH is outside :-)',\n",
              " '@nicagaray thanks!!! :)))))))',\n",
              " '@alrightPET enjoy your holiday! :D',\n",
              " \"I haven't seen that many 'menacing' since I finished JoJo :D\",\n",
              " '@Susansuzt @SimonBedford Ta, same to you both :)',\n",
              " 'Thank you @LaurieTatum2 as always! At last I’m back on track :) Hope you have a fantastic weekend! :) http://t.co/25fUKonLoM',\n",
              " '@cotterw @urihoresh we make it better though :-)',\n",
              " 'Stats for the day have arrived. 1 new follower and NO unfollowers :) via http://t.co/1eaL6SeNnG.',\n",
              " '@DrewJPS accepted. :)',\n",
              " '@Mhonchi_Savs  follow @jnlazts &amp; http://t.co/RCvcYYO0Iq follow u back :)',\n",
              " 'I have to go now guys.\\nHope you enjoyed the updates :)\\nBye\\n[Admin LuKris]',\n",
              " 'Have a lovely day yes. Stay happy. :) 😘 https://t.co/HAiMzAdnHt',\n",
              " 'What a day :)',\n",
              " 'Happy birthday to my momma bear. Love you so much. ❤️ I redid this because I found the last picture from 8th grade :) http://t.co/OkxiraPwXh',\n",
              " \"@NatILY02 K I'll text you tomorrow :-)\",\n",
              " '@Rosiellis im in :) x',\n",
              " 'I love u. :p https://t.co/0zr3VlB5kL',\n",
              " '@archi7194 nice line :-) :-)',\n",
              " 'Playing V.ball ATM :)',\n",
              " 'Appreciate your recent Retweets ! @SebPoGo @JessicaDelpech @AlexandraJaafar  @JeanDams @raphaelcolas @bylkana Have a great Friday :)',\n",
              " '@itspatgonzales  follow @jnlazts &amp; http://t.co/RCvcYYO0Iq follow u back :)',\n",
              " '\"Building a product is like packing a suitcase: Plan out what you think you need. Then remove half.\" Fully agree :)',\n",
              " \"@royvoragen hang-copying A TRANSLATION of Dostoevsky's Notes.. :) @kg_ubu\",\n",
              " \"@AdamKuczynski a voucher for... a new bugatti? what's the value? :D\",\n",
              " 'Someone loves you. I promise. :)',\n",
              " '@_Potz_ @RobinAdamsZA @Converse \"I know a bra that knows a bra that can get this and that\\' :D',\n",
              " '@royatv @FKarsheh @RahafS #مطعم_هاشم yummy :-) \\nA7la bdayt season :-) mnwreeen :-) :-)',\n",
              " '@NativeMusic49 but I listen to jazz in my truck. :)',\n",
              " 'Hi BAM ! @BarsAndMelody \\nCan you follow my bestfriend @969Horan696 ? \\nShe loves you a lot :) \\nSee you in Warsaw &lt;3 \\nLove you &lt;3 x34',\n",
              " \"@TvilleSocialMed can't wait to speak at #PBEvent. See you there. :)\",\n",
              " 'Waiting for HQ pic from today to add on to my YoonA x Hairpin = OTP collection :D http://t.co/cGGzwDM6dG',\n",
              " '#mastership honey ! :D',\n",
              " \"@She_fantastic I paindo don't want to say #follow me :p\",\n",
              " '@IrhaAzzahraa_ @greekgodnjh sure :)',\n",
              " '@Gxbby182 awesome I await your report :D',\n",
              " '@lyssafox20 @Manue1Jimenez throwback lol. Manny is still an asshole :))',\n",
              " '#BrijResidency is a G+6 stories structure with 156 units which encompasses 2 and 3 BHK Flats :D\\n+91 975-580-4444 http://t.co/j1lbGIg4Ll',\n",
              " '.@sajidislam honored to have you here ! :-)',\n",
              " '@KielixTTV You know you like it :D',\n",
              " '@Jamelyyyyy  follow @jnlazts &amp; http://t.co/RCvcYYO0Iq follow u back :)',\n",
              " '@ZedDBA It was \"Currys\". They were close to home. :)',\n",
              " 'The Clash :)) \"@prasetyoseven: Milano Calling 👌\"',\n",
              " '@ranzkyle followback po :-) :-D',\n",
              " '@synergymicro_ i legit am you loser, sit down and get gassed :))',\n",
              " \"All my friends 'hi I saw this dead thing and it made me think of you' aww thanks guys! :D\",\n",
              " '@DaManDJ3 speak to @andrewspenceim :-)',\n",
              " '@vinkaazzahp always for you :)',\n",
              " '@VikkFollows #StarSquad ⭐ Can I please get a follow? You are awesome! :)',\n",
              " '@dk_mok Awwww thanks :-) @GalactiChat',\n",
              " '@evilbluebird @nicole @stevieby @ONETWENTYWATTS @aj_cfc2 @rav_bajwa @CherylynPitcher @steedy58 @SkidKidd @megan_410 Thanks news man.:) UTC',\n",
              " \"Remember that one time I didn't go to flume/kaytranada/alunageorge even though I had tickets? I still want to kms. : ) : )\",\n",
              " '@DamnTurtle1 oh good haha let me know what you think when you can :)',\n",
              " '@bravefrontiergl thanks 4 give certainty about d problem :)\\nHope u all could solve faster👊\\nAt least now i know i dont have to hurry 4 totem',\n",
              " 'Off to somewhere later :)))',\n",
              " 'Some good advice for a Friday :) http://t.co/FJUd2N7gmc',\n",
              " '@lunglock @rhodria @joseyxneko @AnouilhUK @DavidBedwell @StupidFaceRob @QueenOfTheSonic @therealrobcook @KingRichard76 Cheers Alice! :)',\n",
              " '@Namraeter Here you go: http://t.co/nGJ1vzhsj1, please click on the link and checkout! :)',\n",
              " '@GoodwynsPetFood Two dogs &amp; One Cat, all good friends :-) #GoodwynsGoodies #FreebieFriday',\n",
              " \"@FooWhiter Ugh. I've never Rt or fade any of your moaning Leeds tweets :)\",\n",
              " 'Looking forward to Jozi with you guys :) https://t.co/w47eY93ZIQ',\n",
              " '@MitchFAS hello :D how are you just found after all this time i wasnt following you till now',\n",
              " 'I THINK THIS IS FROM THEIR FIFTH ALBUM IM :) OKAY :) FUCK :) https://t.co/qzT5Zsm8RE',\n",
              " '@philconcerts may available tix pa ba ng ATL concert?? Thanks :)))',\n",
              " '@syedmohdjunaid yeah. I have 20 coldplay songs in my playlist :p I love them. My favorites are The Scientist, Fix You, Yellow and Atlas. :p',\n",
              " \"@4eyedmonk awesome :) I'll be waiting\",\n",
              " '@chandsxc  follow @jnlazts &amp; http://t.co/RCvcYYO0Iq follow u back :)',\n",
              " '@luvjoyein done yein :)',\n",
              " '@yarnsbaby Haha!!! Receiving a #FF for thing on a Friday is a nice way to start the day :) xx',\n",
              " 'lol! selos :)) https://t.co/X8nV7tp9S8',\n",
              " '#JabongatPumaUrbanStampede\\n\\nAns.7&gt; Timely Arrival :)  \\n\\n@JabongIndia',\n",
              " '@dreesti \\nWaiter: here is your bill sir??\\nCustomer: Ok, where is the kitchen??\\n:D',\n",
              " 'as the title says :D http://t.co/WhTPt07UaY',\n",
              " \"@tmart_m me too! hey it's almost time to visit the city :)\",\n",
              " 'So you can keep me inside of pocket of ur wripped jeans :)',\n",
              " '@soot1978 How beautiful they are!!! :)',\n",
              " '@iloveseika well haha :D',\n",
              " \"@JessStewart1 @CelebrityCruise @ade_rob  I love Connie,  she's a fabulous ship with an amazing crew and staff. Have a great time :-)\",\n",
              " \"@iSweetan Hi Sweetan! It's best to ask @tristanpope :) Have great day and have fun filming!\",\n",
              " '@BBosold \\nnope :-)',\n",
              " \"@UmiAmaiOfficial That's ok, thanks for following me too. :)\",\n",
              " \"@_edmce my mum has been begging me to watch sopranos! i'll watch that too :-)\",\n",
              " '@KidXSA Follow back please :)',\n",
              " '@Vivienneclore oh, the fun. :)',\n",
              " \"@BigBraMan That's great to hear :D\",\n",
              " 'I also #FF #Ukraine :)',\n",
              " 'Hi BAM ! @BarsAndMelody \\nCan you follow my bestfriend @969Horan696 ? \\nShe loves you a lot :) \\nSee you in Warsaw &lt;3 \\nLove you &lt;3 x33',\n",
              " '@ollyofficial follow me please Olly :)',\n",
              " \"This is so beautiful :) via disney.arts by the talented elmoprinssi  :)\\n_ \\n\\nDon't forget to… https://t.co/UwsFDaeyzB\",\n",
              " 'Bit tired from 3 hours of salsa dancing @LatinMotion last night but definitely worth it. Happy Friday everyone :-)',\n",
              " '@PiperDonut thanks haha but i only tell the truth to you :):):)',\n",
              " '@blossominglou yes pls :)))',\n",
              " 'I have gotten at least 3 hours of sleep on the past 4-6 days so the rest of the week should be interesting :) :3 ;)',\n",
              " '@CCBMLov Thank you. : )',\n",
              " 'Check out my bro @13Mesh 2nd blogiversary! Many more awesome reviews to come :D ... http://t.co/a5xIGzTueL',\n",
              " 'With the top cutie of Bohol :) https://t.co/Jh7F6U46UB',\n",
              " '@_ayeayecaptain  follow @jnlazts &amp; http://t.co/RCvcYYO0Iq follow u back :)',\n",
              " '@BrizzleLass This is briliant. Was literally just having a conversation about post v email when I saw this :)',\n",
              " '@ansriram they key word here is \"annual\". Haven\\'t read anyone writing about that :)',\n",
              " 'A very productive day so far :) Happy Days...!!  :) :) but my head is spinning with things, those voices keep calling..!!! Lol \\U000fe334',\n",
              " '@vaninatwilight Yeheyy! thank you so much Pinya!! :) whoooah for the win',\n",
              " 'Good morning dear friends &lt;3 Listen to \"I am trance lover\" and enjoy :D Happy Friday &lt;3 http://t.co/W7X6ewgfj6',\n",
              " 'What was your favorite subject in school? — PHYSICS :))))))) http://t.co/h8wqtuoP8T',\n",
              " '@LilyTins congrats :) good news heading into the weekend!',\n",
              " '@IzabelaCoolCat_ Take my head, I stopped having them. :)',\n",
              " \"@Komal_Indian @SocialitePanda #ब doesn't matter. Jungle can accommodate both :-)\",\n",
              " \"@nejcsvete hi! On our shouting out list you are one of the best, what's your secret behind this?:)@AdeccoWaytoWork #SandroForCEO #CEO1Month\",\n",
              " '@YouTubeActus Swag :D',\n",
              " \"Wait till it's my turn to go mia :-)\",\n",
              " '@KjorObbinsL @wideglide96 @vivijo86 @beingsomebody11 @sophlicious84 @shaymc3796 @ShaymcSharon @ParaJanitor @kelseabellum  thanks :)',\n",
              " \"Having a lovely time 'going with the flow' on this #workinprogress. I love choosing colours :)\\nJust a… https://t.co/13N3WlaWmq\",\n",
              " '@ryan_landreth    No! I love Finnigan :) #Be loyal to my Royal!',\n",
              " 'Fotoset: reusful: seems like somebody had fun today :D http://t.co/jay6beUsFd',\n",
              " '@MiyaOliva I love you :-)',\n",
              " 'Quit it :)\"@_uNeo: You selling it too @Dented_Deni @_uNeo You too young to understand muntu\"',\n",
              " 'Another gem from today, Falcos cool too :) #supersmash https://t.co/EOydn5TLKr',\n",
              " '@DeniseDenise__  Good morning #hotnsexy girl. Have an amazing #friskyfriday on the beach :D',\n",
              " '@JonsCrazyTweets You are very welcome! :D',\n",
              " \"@TheYingster @cristianavai3 @AFCGraMaChroi @Goonerlover69 @iWaveBack Lol it's very tiring being this good looking. :)\",\n",
              " '@chrisjarvis213 Wrong Turn 6 it was amazing movie :))',\n",
              " \"@LeeCash Glad to hear that's back! If you see anything else crop up let us know :-) ^BA\",\n",
              " 'kill :) me :) http://t.co/5kon9Txmf6',\n",
              " '@bryanteslava how are those pics of Nash coming out? :)',\n",
              " \"@saneliur I make sure to always have tissues, chocolate and tea for every #Hannibal episode :) It just doesn't work any other way for me :)\",\n",
              " \"Contact us today and we'll get you out of the city into a 'hotbed' in a bush somewhere :) #ClassicAssures\",\n",
              " \"@AguilerArmenia Hi! Would you like an @imPastel concert? Let me know your city and country and I'll start working on it! Thanks :)\",\n",
              " 'Stats for the day have arrived. 1 new follower and NO unfollowers :) via http://t.co/UAIOTsdqvG.',\n",
              " '@Aditi_SoSaree glad that you liked . Check some more nice stuff at #WSaleLOve :) @WforWoman',\n",
              " '@ChaSilveo  follow @jnlazts &amp; http://t.co/RCvcYYO0Iq follow u back :)',\n",
              " 'We are thrilled to be on our first international assignment as aerial camera operators....Wales here we come #Boom : ) Never forget to smile',\n",
              " 'Friday Night in Hong Kong... On the Ferry to \"Central\" to meet new girlfriends for an after-work drink  :-)\\n....... http://t.co/j9oH0pJSfr',\n",
              " 'Family time :D (at Dj Resto) — https://t.co/hjAiIIsq2S',\n",
              " 'Good morning :)) — drinkt koffie',\n",
              " '@WforWoman \\nA6. If I was a Girl,\\nMy Wardrobe would only and only have \"W\" in it :))\\n#WSaleLove',\n",
              " '@purplestar420 Is that Stargate Atlantis? Such a cool show :)',\n",
              " 'Great! Muaahhh :))) https://t.co/CZfjnK8IfU',\n",
              " \"@seashoponline ohh. Hii :) haha. thanks for the info. I'll check again. 🙈 or maybe di nagsend yung order form ko &lt;/3 haha thanks ulit :)\",\n",
              " '@Little_Nells happy birthday :)🎉🎈',\n",
              " \"There is no TRUST without 'us' but there is no UGLY without 'u' :-)\",\n",
              " 'Leggete qui per la chat Larry :)\\n-Mar http://t.co/gEj5b3qPqS',\n",
              " '@louliveswell Have you encouraged your employer on board (http://t.co/sczAWaxEW0) or stuck a poster up (http://t.co/J024E6Dwvk)? :)',\n",
              " '@hectorparr0123 @hackadayio Sticker came with my sponsor prize for @HackadayPrize entry http://t.co/BnyB8BteW3. The tablet is my own :).',\n",
              " '@Real_Liam_Payne goodnight liam ! I hope you had a fantastic day today (: sweet dreams baby I love you will all of my heart :D xx.',\n",
              " '@Chewy_Lemon Oh yeah, because Milo, Aurini and Juicebro are the fucking pillars of their respective communities. :D',\n",
              " \"Yeah boii! Look what arrived in the post this morning! The latest #SmashingBook5 it's my new bible :D @smashingmag http://t.co/1E7cfAtEVd\",\n",
              " 'Ill be better soon. :) — feeling sick',\n",
              " \"@Dorky06 LAMO , At first i will fangirl so hard .. then i'd love to share you some platonic pics :D JUST YOU KNOW FOR SCIENCE\",\n",
              " \"Morning........it's FRIDAY!  Happy Friday beautiful people :)  #Smile\",\n",
              " \"@mr__cooke @CCWeekUK Thank you! We're set to have another great day supporting the #community &amp; helping #residents :-) #servicewithasmile\",\n",
              " \"@calllmejay_ sounds good to me :) I'll see you Saturday ✨\",\n",
              " 'Live night with two fams :) #bloodline #huskies',\n",
              " \"@CorderMrs you're welcome :)\",\n",
              " \"The picture I'd like to see in my obituary advert :) #goofingaround #madness #mad #bollywood… https://t.co/7tyUragh2H\",\n",
              " '@WhirlpoolBathUK lovely giveaway! :) #FreebieFriday',\n",
              " '@roofbsuzy @roofyuna @roofsinb @roofchaelin @roofaim @roofjackson  dah move on :))',\n",
              " \"There's nothing as cool as being totally over someone, No bitterness, anger or hatred towards them. Just pure indifference :)\",\n",
              " 'when u wake up at 4 AM and the suite life of Zach and Cody is on :))))!!!!!!',\n",
              " \"@rich_bartram29 Oh, didn't know :) But yes, you can have an order delivered to your work address, once it's added to your address book ^AC\",\n",
              " 'Achieving excellence in Music as a Music Producer is a Mind Boggling &amp; Fatiguing Job... Baareeq... :) :) :)',\n",
              " '@bexlittle @AlisonWright8 @lindyrendy @Cloud2ltd @DotNetSolutions love it thanks for sharing :)',\n",
              " '@Kkiimmeenngg  follow @jnlazts &amp; http://t.co/RCvcYYO0Iq follow u back :)',\n",
              " '@mobiadage @GameDevRobot my #gamedev is a hobby :)',\n",
              " '@AvantikaSeeth @mandisatweets @santherlabelle yes yes yes... I am in :)',\n",
              " 'Thank you :) \"@Clicks_SA: Tweenie_Fox Hi, please click here for a list of our hair accessories &amp; products http://t.co/dunT1DuopC\"',\n",
              " \"Sometimes you're just tamang hinala. :) https://t.co/blnolTbXEY\",\n",
              " \"@RoyalMail I'm following now :)\",\n",
              " '@wonkASSLILO hello babe, you got Niam access?? Could I give you something for a ship dm with them ? :)',\n",
              " 'Selfieeeee :) https://t.co/R9soIqZXYZ',\n",
              " 'Especially for three of you, LASS :) w/ Aling http://t.co/aRwmTLsFZr',\n",
              " 'Hi #Gorgeous @TillieModel have  a nice swim with your sis!! Can I get a #Birthday shout out please it would make my day?? #Perfection :) xx',\n",
              " \"@Linduhhh9 @doloresssvee there it is haha hope I don't got work tho.. Bout to quit if I do :p\",\n",
              " \"@77kaylee77 goodbye, don't forget that it was feminists that fought for your right to act like a snobby little bitch :-) goodnight!!!!\",\n",
              " '@JamieForevs  follow @jnlazts &amp; http://t.co/RCvcYYO0Iq follow u back :)',\n",
              " \"CAROLINE, Caroline all the guys say she's mighty fine 🔥 I threw up a little making this :-)) HBD ❤️ @Carolineking0 http://t.co/ttPeupXf44\",\n",
              " '@FC_TEAMJK3T follback :)',\n",
              " 'Time for jogging :p',\n",
              " '@GET_TUDA_CHOPPA from all over the place I hope :) I’m a pro at remote work AND traveling ;)',\n",
              " 'Newly listed in my EBay store :-)... http://t.co/Ee1j2ohmgu',\n",
              " 'The new #disneyinfinity #starwars characters look amazing preorder the starter pack in store today :D http://t.co/sbbmbDR6us',\n",
              " \"@Parulcoolthougs I'm here if you want to talk :)\",\n",
              " 'I always tweet hit me or snap me... no one ever does but its worth a try :)',\n",
              " 'The homies bought me skins for my bday :D',\n",
              " '@awadkum - Just chant Jai Italy 100/times fast. :)) @BJP4India @AmitShahOffice @narendramodi',\n",
              " 'Heeeeyyy. Can all of you follow my fan account? @KINGT0MLINS0N \\n\\nThank you! :)',\n",
              " '@leonrestaurants in the UK :)',\n",
              " '@JEDIEV11 thank you!! :D',\n",
              " '@Blahkumaran woah! nice nice!! :-)',\n",
              " '@cuteHiddlesmile u are welcome :-) ♥',\n",
              " '@lucahollic good and you ? :)',\n",
              " \"And here's @mayankw14's ★★★★ review: http://t.co/wNVIPDDRe6 Phew! We're literally overwhelmed. :)\",\n",
              " \"@PatoFer222 Hi! Would you like an @imPastel concert? Let me know your city and country and I'll start working on it! Thanks :)\",\n",
              " \"@Anaateresaa_ you &amp; the baby😊😊😊 next time , it's my house ! I have it whenever :)\",\n",
              " '@TfLWaystoPay got it, thanks g :)',\n",
              " '@jonathanhobbs71 Have you encouraged your employer on board (http://t.co/sczAWaxEW0) or stuck a poster up (http://t.co/J024E6Dwvk)? :)',\n",
              " '@MsKristinKreuk Hugs ang Kisses from the philippines :)',\n",
              " \"I've entered to WIN a huge @BlueMicrophones package from @CazuaLLUK &amp; @Marzbargaming :) ENTER HERE: https://t.co/yRlT7jltqP #Giveaway\",\n",
              " '@Jim_Edwards yes, it works now :)',\n",
              " '@reyes_reynaldoz  follow @jnlazts &amp; http://t.co/RCvcYYO0Iq follow u back :)',\n",
              " 'Hi @BridgeHouseThel , great to connect. We specialise in thermal imaging surveys – here if you need us :)',\n",
              " '@juanchavarin52 @taliagarcia__ yeah so you can bruise my rib again :-)',\n",
              " \"@PallaviRuhail @BhaktisBanter #FlipkartFashionFriday 😀😁😂😃😄😅😉 No No won't give dear don't worry :)\",\n",
              " '#TombRaider #hype thought you might like this @MelonieMac :D http://t.co/aXxprx1PRz',\n",
              " 'Oh Me Oh Me Oh my its #TheJuiceInTheMix @POTUS rela @talliaoyando in the building :) @HomeboyzRadio @DJBashKenya',\n",
              " 'Low priority match :) hahaha',\n",
              " '@dxuntlesslarry fback? :)',\n",
              " '@HelpingGroupDms I want Harry Dm bc I wanna give a surprise to my friend for her birthday. I just wanna make her happy :)',\n",
              " 'Is now not an opportune time 2 collapse chaotic Cosas? &lt;--- note the alliteration :-)  @NomalangaSA @barrybateman @AndileMlondo',\n",
              " \"@sungjookxm going well oppayaa! How's yours? :D\",\n",
              " '@khalidALSALEM @Azizsm_ we did our best, as you want body :)',\n",
              " \"#NatGeo new show U can't lick ur elbow. .seems interesting....:)\",\n",
              " 'Stats for the day have arrived. 7 new followers and NO unfollowers :) via http://t.co/C6u8lINDwD.',\n",
              " '“@MileyCyrus: Emu is stoked thank you :) http://t.co/l5Xyt9EM6G” @creampuffshinee',\n",
              " \"Woke up yo @trentowers fav' my tweet this made my day :))) now just @luketurner89 😂😂 http://t.co/oGw5sVij7G\",\n",
              " \"Remember, you don't need people's approval when you have God's approval. :-)\",\n",
              " 'and jisung is the kid sunshine :)  https://t.co/LBjXDWIAPE',\n",
              " '@TheLlamaverse mm okay thanks! :)',\n",
              " '@noodles78 Message us right here Nicola and we can forward this on :) Brighten up our day :D Helen',\n",
              " '@_dreyaniks  follow @jnlazts &amp; http://t.co/RCvcYYO0Iq follow u back :)',\n",
              " '@sunofsides CONGRATS :)',\n",
              " \"@gunnersx4 Hi Brian I'll  get it shipped today for you and it can take between 2-3 weeks to Australia. Many thanks :) http://t.co/IBoe0e1aXt\",\n",
              " \"@JanPrince63 @AWonderBall was good fun at the time but the ol' bones are now a creaking :)\",\n",
              " '@Mokhenerale Eh abUtI, WelcOmE to TweetLand.....Lol :p',\n",
              " '@davidc79 thx! And Android support in by Xmas :)',\n",
              " '@phedran A great Skyblock stream too. :)',\n",
              " 'this is why im standing and always being a Belieber :) its all bcause of him @justinbieber 2009 until Die :)',\n",
              " '@BOHEffy I am streaming now on Twitch Join :D\\nhttp://www/twitch.tv/lockedbeast1',\n",
              " '@BRBCODY it was a.. sympathy laugh :)',\n",
              " '@huskar_nana who would you like? :) xo',\n",
              " '@DrtyChimichanga Awesome! :D',\n",
              " '@kimtaaeyeonss unnieeee!!!:)',\n",
              " 'Tonight is the Night ... :) #nuka #penacova #djset #free #EDM #kizomba #latinhouse #HouseMusic #portugal2015 #summer http://t.co/m5WqWKfqs3',\n",
              " \"@moonlight69 well you're in for a wild ride &gt;:D\",\n",
              " '@TokyoTantra Hahaha tell me anytime you wanna taste it! oh, with yer address to send it :)',\n",
              " '@mtnza @mtn8 thanks team yellow :) #MTN8',\n",
              " '@Acsxy Maganda. You look very pretty with short hair. cute. :D',\n",
              " '@MistressSaphire Good morning to you, gorgeous Mistress Saphire :)',\n",
              " \"@Aware_GinGi I'm at work and I'm busy, so I will help you once I finish and im at home :)\",\n",
              " 'Thanks to amazing 4000 Followers on Instagram\\nIf you´re not among them yet,\\nfeel free to connect :-)... http://t.co/ILy03AtJ83',\n",
              " 'Coconut Sambal Mussels Recipe :-) http://t.co/FSfkpOwTpS',\n",
              " 'Thanks Kalin :) http://t.co/ihELksfJjT',\n",
              " 'Follow @JaHz73 on Mixcloud :)\\n\\nhttps://t.co/HviVk8rMmp',\n",
              " '@L0MLHES fback? :)',\n",
              " '@implodingpika Thankyou ! Greetings from Australia :)',\n",
              " '@MIKEYGEE110 I cant work out if this is sarcasm or not :), i know some Chelsea supports think hes useless but when he comes on he does ok.',\n",
              " '@IBePyari follow back :)',\n",
              " '@aubreysablan I come back next Thursday!! We can still hang out :-) hehe she said hi love u',\n",
              " '@shaunamanda2012 Benson is gorgeous!! Thank you so much for sharing him with us :) You can also enter on our Facebook too...',\n",
              " '@ItsLukeEv you look a solid 16/17 :)',\n",
              " 'Great night! :D',\n",
              " '@primavera_bella 30°C 😜\\xa0so we just should change for few days and all is good :)))',\n",
              " 'Add me on Snapchat - MaryHicks18 #snapchat #kikmeboys #photooftheday #fuck #chat #musicbiz #sheskindahot :) http://t.co/plFpD86iEq',\n",
              " '\"fleekile mbalula\", he said. i repeat, i love my south africa. :)',\n",
              " \"when your friend is making fun of the fact that your mexican so you hurt his feelings that'll leave him scarred for life :)\",\n",
              " \"@SophiaDelPizzo it's my office today :)\",\n",
              " '@jeremygutsche we like this amazing donut recipe! we share with #foiegras lovers! :)',\n",
              " 'Despite the weather today the wedding is going to be beautiful :)',\n",
              " 'Where Was Tony Stark? :) - From Incredible Tony Pictures http://t.co/uwhGYM0BWb http://t.co/pHp6OcHlXH',\n",
              " \"To sit and write poems or stories that's been bubbling in my head~ :)\",\n",
              " 'Last night :))) http://t.co/8EDHMc2tiJ',\n",
              " '@EmilySmith_91 Dale send a billion kiss to her :) Have a magical day!',\n",
              " '@mcllary That might work :) Have a great weekend. \\\\OP',\n",
              " \"Smile, it's #friday :) #TGIF #weekend http://t.co/L6KxKEAl75\",\n",
              " 'i will not cast my vote in next elections :) #JCReport',\n",
              " '@PebbleHelp Have done! Thank you for your tweet :)',\n",
              " '@JILLCLARK1808 @BigAl_lfc @SuePeace1 @michell47881905 @Bevanns @susanhorgan1 Oh piggin just go will yer, give us some peace :)',\n",
              " '@alElizabeth Appreciate the follow :) have you heard of our botanical soaps?',\n",
              " '@Ashton5SOS @5SOS love u 2 :-)',\n",
              " 'Late upload. Freshly done/3weeks old healed. :)',\n",
              " \"@Im_MsKittenns oh. I was in bed haha. I can't sleep though. My day was too exciting :)\",\n",
              " '@TOBMAST3R @inspchin @koeitecmoeurope @TanikoHorigome @GoldxFierce @Kronin1 @Addictrian @chako33 @MatthewRumple thx Tobi-bro! :D',\n",
              " '@nikimcglynn How good is that! I think it was my first ISP too! :)',\n",
              " \"@tessasmith4evr @BlueBellEMS we'll steel some from the @BlueBellEMS next Wednesday and see what it's like!:)\",\n",
              " 'hey there :)',\n",
              " \"@camerondallas definitely loves making people smile cause I swear since I met him earlier, I haven't stopped smiling :) i love you cam 😭❤️\",\n",
              " \"@SabihaMahmoud ... except for her Lord, masha'Allah :)\",\n",
              " '@NeilWhoreAnn some French fans made a movie about the WWAT in France last year with our videos and photos :)',\n",
              " '@max_pen1 It has been fixed, thanks for your feedback :)',\n",
              " 'Thanks to everyone who came to the stream :D Hope you guys enjoyed. Night all!',\n",
              " '@siddichan @Twitch YAAAAAAAAY thx :)',\n",
              " 'Looking forward to reviewing ours :-)  https://t.co/y8SUBXjqXk',\n",
              " 'Thank you Beiruting :)',\n",
              " '@coolkidsftnjh fback? :)',\n",
              " 'Thanks for updating your profile page @AlexaPoppe :-)  http://t.co/JK3NSXIRMe',\n",
              " 'Lovely coffee :) @CoffeesToGo1',\n",
              " \"Here's a cute panda to make your day! :) http://t.co/zCaWqrjSvr http://t.co/FuZNhjGWD7\",\n",
              " '@x0lovestephi thank you eonnie :))',\n",
              " '@stokebrisbane Hi! Saw who u follow and thought u might like \"Dark\" https://t.co/CFl0s5hwWw .Plz let us know what u think :)',\n",
              " '@Polished_teeth my favourite too! :) @ciatelondon Cream Soda :)',\n",
              " \"I love my body, when it's fuller, and shit, even when it's not lol. I'm just happy to be healthy :) happy to be happy.. 💓\",\n",
              " 'Rettweet :-) http://t.co/l6T0rx7bEf',\n",
              " '@DianaaOrtizz the real MVG (MOST VALUABLE GIRLFRIEND) for staying up with me till the Madrid game starts :-)',\n",
              " '@OLX_OHayoung96 sore ya :)',\n",
              " \"@tmhcuddly I'm so excited, we should definitely meet up :)\",\n",
              " \"@morriskid are you coming to Bergerac?  Have the first team left any u21's I'd know of? #checking for chants :-)\",\n",
              " '@rizwanism :) just a choice of food. Left to the individuals.',\n",
              " \"@VickiCartagena The episode is excellent so far.:-) I love Adam Beach's movies &amp; shows.I'm looking forward to seeing Suicide Squad next year\",\n",
              " \"Growing very fond of Christopher, didn't like him initially because he was cocky and didn't really prove it but his attitude's improving :D\",\n",
              " '@GlenOcsko sounds good! Can you DM me your email address? Will suggest some dates for a coffee! :)',\n",
              " '@forlodge1 It is indeed - many thanks :-)',\n",
              " 'Just smile even your in Pain :) http://t.co/AxTiqf0xek',\n",
              " 'Hi happys!!:) http://t.co/AGiLlxJdbi',\n",
              " 'Funny. Intelligent, strong and funny. Just funny... :-) https://t.co/IqJwYRF52C',\n",
              " 'Hello :) Get Youth Job Opportunities follow &gt;&gt; @tolajobjobs @me1campbell',\n",
              " '@mokwepa no, other than it using Cs :)',\n",
              " \"you ever watch certain people's snapchat over and over again, bc i know i do :-)))\",\n",
              " \"@IbnNabih1 that's all ok I know your busy :)\",\n",
              " 'Last 2 exams :)',\n",
              " 'forgot u were up. :)))  https://t.co/Or6eATWDjm',\n",
              " 'Fun fact: I love meeting new people :)',\n",
              " '@jaseygalore I know the home-based office busy feeling :-) Pity about your knee - what happened?',\n",
              " 'SALE FLEUR DRESS CREAM #Readystock_hijabmart\\nIDR 325.000 ====&gt; IDR 200.000 :) http://t.co/AGp51NQMbS',\n",
              " '@pprabha014 Thankyou :)',\n",
              " '@fernandeznoemi4  follow @jnlazts &amp; http://t.co/RCvcYYO0Iq follow u back :)',\n",
              " 'Is Tompolo meeting aimed at stopping the sale of the oil that we cannot find buyers for? :D',\n",
              " \"@Centerfxld that's true, @johngreen doesn't disappoint! Looking forward to Paper Towns? :)\",\n",
              " \"That's all I need to know, is that everything is going to be okay :-)\",\n",
              " '@LTBeautyBlog @FDNCoffee I say less slacking &amp; getting cracking :)',\n",
              " \"@JulieWestern I don't know the name but it is particularly striking. Happy days :)\",\n",
              " \"@misshollylou Hey, here's your invite to join Scope as an influencer :)  http://t.co/ipJ2yOiGet\",\n",
              " '@DeewaniVeronica 31* My Bad Mam :p',\n",
              " '@FrancesBeeton Lovely looking cake, bet it tastes good too :-)',\n",
              " 'FeyTyaz Follback ya :)',\n",
              " '@dalenaha1 so I found this last night, lets just say there was an instant stiffening of my interest :) https://t.co/sw5O1Bz4y9',\n",
              " 'Rettweet :-) http://t.co/zBOvLw0y5S',\n",
              " '@CHUBANHES fback? :)',\n",
              " 'Rettweet :-) http://t.co/CGTjR664Kj',\n",
              " 'ricky_febs Follback ya :)',\n",
              " 'Got Secrets of Grindea, Courier of the Crypts and possibly some Arma 3 to record today..... Gosh! And a new game that looks like Limbo :)',\n",
              " '@siaramelatienza  follow @jnlazts &amp; http://t.co/RCvcYYO0Iq follow u back :)',\n",
              " '@MyriadPhoto  thanks for retweeting @madsenjewellery orchard art show, have a super weekend :)',\n",
              " 'Karachi ka Venice after rains :) @rizz_javaid “@JaagAlerts: Several parts of Karachi witness accumulated rain water,http://t.co/Wionr1evBo”',\n",
              " 'maroon cocktail dresses http://t.co/Ioj5YzNRwu #MidiDresses for @filipinaniah :) http://t.co/Vj1U5fIzBw',\n",
              " '@IamPatmae_ fback po? :)',\n",
              " '0-100 real quick :)',\n",
              " '@Iron_Vein Morning! : ) Mine is 1100D. Usually auto-focus. I only use manual for  really close up like shooting veins on crackle glaze. :)',\n",
              " 'the new layout looks bomb! :-) \\n-g',\n",
              " \"Thanks for connecting @garrowlscq Hope you're having an Great Day!  Have a social/website question? Just ask :-)\",\n",
              " '@Tweetnesian pake :)',\n",
              " '@gabrielaliuw hi we made some changes in our design, hope you like it :) https://t.co/EXt098Yq1b',\n",
              " 'joim me while I feed the troops. :) https://t.co/ZlcsRuUpPY via @audioBoom',\n",
              " 'Any brands wanting me to review BEAUTY products on my blog? mail me at: ladolcevitainluxembourg@hotmail.com #prrequest #journorequest :)',\n",
              " 'The_MadStork Follback ya :)',\n",
              " '@SSalchli Good luck, Shaun! :)',\n",
              " '@madziucha_5 yes he is :)',\n",
              " 'Anyone who wants to be added to the bot just DM me!! :) #bot',\n",
              " '@ChloeGMoretz Chloe I watched \"Let me in\" yesterday and you were really awesome! Really talented and intelligent actress, beautiful too! :)',\n",
              " '@hesfallenangel could i get some free solo  dms? Any to give away? :) xoxo',\n",
              " '@TripVerse @outboundapp thanks for sharing! Wishing you a wicked weekend :)',\n",
              " \"Hola juan.. sending you a big Hi from Houston tx! :) I've been a fan of jenni  and the family for year's.  I stumble upon a video of you\",\n",
              " '@padaleckbye. No prob.nice choker btw :)',\n",
              " '@seoulsjin @seouljins seouljins :) both are fine tbh',\n",
              " 'Photoset: sadomasochistsparadise: Wynter bottoms- and an outtake :) Sadomasochist’s Paradise Cuties http://t.co/GNW1lwjFK1',\n",
              " 'You make my day by just smiling :)',\n",
              " '@ghostkidluke fback? :)',\n",
              " '@itsRebeccaRayne :D ty bby!',\n",
              " 'Please enjoy this clip of me losing my shit during cypher :) http://t.co/8FIyPQ6kkn',\n",
              " '@athrawestokio @AdeccoWaytoWork @AdeccoJapan next week, i will be at my office ! so lets go :)',\n",
              " '@DanielCWest thank you for following me :D',\n",
              " 'Stats for the day have arrived. 2 new followers and NO unfollowers :) via http://t.co/e644DJI0zw.',\n",
              " '@purehaire Amen. Thanks :)',\n",
              " 'Hi BAM ! @BarsAndMelody \\nCan you follow my bestfriend @969Horan696 ? \\nShe loves you a lot :) \\nSee you in Warsaw &lt;3 \\nLove you &lt;3 x32',\n",
              " '@shyayen  follow @jnlazts &amp; http://t.co/RCvcYYO0Iq follow u back :)',\n",
              " '@DrenchinWine @2fai @Chompu_Kusuma paper girl :D',\n",
              " '@gculloty87 I know would of been lovely to have her in that pic :)) x',\n",
              " '@adnanCad Planted people are allowed to do any thing and every thing :p',\n",
              " '@mRpOrTeR7 \"This Corner\" is so fucking Dope!! Getting addicted to it..\\nGreat Job :D',\n",
              " 'My bby gurl :) http://t.co/S0IiU35MWw',\n",
              " 'Hey hey :D',\n",
              " '@NickTheBullsFan @CashNastyGaming still suck at editing but if this turns into something special I owe it to you guys :)',\n",
              " '@ayokejkt Visit my blog http://t.co/UzOAqroWKx thanks :D',\n",
              " \"@daannymoncada @breannelaflare YOU'RE UGLY DANIEL, is it good ape?:)\",\n",
              " 'Happy bday @Cinemainmygenes  Saar....\\nHave a great year ahead... :)',\n",
              " '@LucyLu_xx Thought you might! I saw it and I loved the verse. The butterfly part was just a bonus :).',\n",
              " 'Thank you :-))) OK \\nHave fun!!\\n@anvy2446 @4HUMANITEEs @SexyAF12 @kikbella @adasamper @RachelLFilsoof\\nEnjoy day u all\\nhttp://t.co/5Y5OAESAzv',\n",
              " 'well. good morning. :D',\n",
              " '@palakspatel would you follow me?:)',\n",
              " 'Busy, productive day filled with a few tears, but hours and hours of laughter. Today was a good day. :)',\n",
              " '@17bljpk hi. You have 5sos tickets?? Dm me :)',\n",
              " 'Yummmyyy.... :-) — eating dosa',\n",
              " '@bbcdoctorwho so do I :D',\n",
              " '@MegLovesGames its probably easier to meet at the station? Unless you particularly want to show me your house? :)',\n",
              " 'A Huge &amp; Warm Welcome to @VodkaBlond :-))',\n",
              " 'ACHI!!!! Im busy next week because of our exams. Hope you understand that I cant tweet youuu, Bawi ako queenesther! :) @esthercarodan',\n",
              " '@LeeMcKenzieTV Looking sharp :-)',\n",
              " '@xWinnerMino yess im 1 year younger than u :-) no wonder youre huge boy',\n",
              " \"I'm playing Brain Dots : ) #BrainDots\\nhttp://t.co/ilDzDRHf9d http://t.co/VTXNFCPFuI\",\n",
              " 'Ha! All in one picture :-) http://t.co/IgLPwLvSfz',\n",
              " '@Galatasaray @Podolski10 is ready :) #Poldi #Cimbom',\n",
              " '@LuvSocial_Media Thanks for the share :)',\n",
              " '@LOSTCHILLHORAN fback? :)',\n",
              " '@24f567234e3c410  follow @jnlazts &amp; http://t.co/RCvcYYO0Iq follow u back :)',\n",
              " '@graphure Happy birthday buddy! :D',\n",
              " '@waterrat77 Thank you :-)',\n",
              " '*sigh* \"@Whykaysbeauty: Bruhhh“@Dopjones: Call me daddy one more time :)”\"',\n",
              " ...]"
            ]
          },
          "metadata": {},
          "execution_count": 8
        }
      ]
    },
    {
      "cell_type": "markdown",
      "metadata": {
        "id": "F4arsw1ZaaQf"
      },
      "source": [
        "Next, we'll print a report with the number of positive and negative tweets. It is also essential to know the data structure of the datasets"
      ]
    },
    {
      "cell_type": "code",
      "execution_count": 9,
      "metadata": {
        "id": "NmEITPovaaQf",
        "outputId": "1eec2aca-9883-42e3-996e-5e584ea9dcb2",
        "colab": {
          "base_uri": "https://localhost:8080/"
        }
      },
      "outputs": [
        {
          "output_type": "stream",
          "name": "stdout",
          "text": [
            "Number of positive tweets:  5000\n",
            "Number of negative tweets:  5000\n",
            "\n",
            "The type of all_positive_tweets is:  <class 'list'>\n",
            "The type of a tweet entry is:  <class 'str'>\n"
          ]
        }
      ],
      "source": [
        "print('Number of positive tweets: ', len(all_positive_tweets))\n",
        "print('Number of negative tweets: ', len(all_negative_tweets))\n",
        "\n",
        "print('\\nThe type of all_positive_tweets is: ', type(all_positive_tweets))\n",
        "print('The type of a tweet entry is: ', type(all_negative_tweets[0]))"
      ]
    },
    {
      "cell_type": "markdown",
      "metadata": {
        "id": "448Exw0taaQh"
      },
      "source": [
        "We can see that the data is stored in a list and as you might expect, individual tweets are stored as strings.\n",
        "\n",
        "You can make a more visually appealing report by using Matplotlib's [pyplot](https://matplotlib.org/tutorials/introductory/pyplot.html) library. Let us see how to create a [pie chart](https://matplotlib.org/3.2.1/gallery/pie_and_polar_charts/pie_features.html#sphx-glr-gallery-pie-and-polar-charts-pie-features-py) to show the same information as above. This simple snippet will serve you in future visualizations of this kind of data."
      ]
    },
    {
      "cell_type": "code",
      "execution_count": 12,
      "metadata": {
        "id": "N6fjM8_4aaQi",
        "outputId": "0df59b89-03ae-4499-c9c2-1492b5497d4d",
        "colab": {
          "base_uri": "https://localhost:8080/",
          "height": 422
        }
      },
      "outputs": [
        {
          "output_type": "display_data",
          "data": {
            "text/plain": [
              "<Figure size 500x500 with 1 Axes>"
            ],
            "image/png": "[encoded data removed]"
          },
          "metadata": {}
        }
      ],
      "source": [
        "# Declare a figure with a custom size\n",
        "fig = plt.figure(figsize=(5, 5))\n",
        "\n",
        "# labels for the two classes\n",
        "labels = 'Positives', 'Negative'\n",
        "\n",
        "# Sizes for each slide\n",
        "sizes = [len(all_positive_tweets), len(all_negative_tweets)] \n",
        "\n",
        "# Declare pie chart, where the slices will be ordered and plotted counter-clockwise:\n",
        "plt.pie(sizes, labels=labels, autopct='%1.1f%%',\n",
        "        shadow=True, startangle=90)\n",
        "\n",
        "# Equal aspect ratio ensures that pie is drawn as a circle.\n",
        "plt.axis('equal')  \n",
        "\n",
        "# Display the chart\n",
        "plt.show()"
      ]
    },
    {
      "cell_type": "markdown",
      "metadata": {
        "id": "GUrXTVmAaaQj"
      },
      "source": [
        "## Looking at raw texts\n",
        "\n",
        "Before anything else, we can print a couple of tweets from the dataset to see how they look. Understanding the data is responsible for 80% of the success or failure in data science projects. We can use this time to observe aspects we'd like to consider when preprocessing our data.\n",
        "\n",
        "Below, you will print one random positive and one random negative tweet. We have added a color mark at the beginning of the string to further distinguish the two."
      ]
    },
    {
      "cell_type": "code",
      "execution_count": 13,
      "metadata": {
        "id": "yjUcHVCiaaQj",
        "outputId": "69b45705-0b91-4a40-c864-ef43fb955178",
        "colab": {
          "base_uri": "https://localhost:8080/"
        }
      },
      "outputs": [
        {
          "output_type": "stream",
          "name": "stdout",
          "text": [
            "\u001b[92m@ashleyannvlnc happy birthday!! :)\n",
            "\u001b[91m@Daniel_Juarez5 faggot* :( poor english teacher\n"
          ]
        }
      ],
      "source": [
        "# print positive in greeen\n",
        "print('\\033[92m' + all_positive_tweets[random.randint(0,5000)])\n",
        "\n",
        "# print negative in red\n",
        "print('\\033[91m' + all_negative_tweets[random.randint(0,5000)])"
      ]
    },
    {
      "cell_type": "markdown",
      "metadata": {
        "id": "OU8ceXoAaaQk"
      },
      "source": [
        "One observation you may have is the presence of [emoticons](https://en.wikipedia.org/wiki/Emoticon) and URLs in many of the tweets. This info will come in handy in the next steps."
      ]
    },
    {
      "cell_type": "markdown",
      "metadata": {
        "id": "KAVSI1JLaaQk"
      },
      "source": [
        "## Preprocess raw text for Sentiment analysis"
      ]
    },
    {
      "cell_type": "markdown",
      "metadata": {
        "id": "_b1YCizyaaQl"
      },
      "source": [
        "Data preprocessing is one of the critical steps in any machine learning project. It includes cleaning and formatting the data before feeding into a machine learning algorithm. For NLP, the preprocessing steps are comprised of the following tasks:\n",
        "\n",
        "* Cleaning [ like Remove hyperlinks, Twitter marks and styles ]\n",
        "* Tokenizing the string\n",
        "* Lowercasing\n",
        "* Removing stop words and punctuation\n",
        "* Stemming\n",
        "\n",
        "The videos explained each of these steps and why they are important. Let's see how we can do these to a given tweet. We will choose just one and see how this is transformed by each preprocessing step."
      ]
    },
    {
      "cell_type": "code",
      "execution_count": 14,
      "metadata": {
        "id": "wzAVohRBaaQm",
        "outputId": "2d35ff65-1540-4b9c-f058-4ec97fcb515e",
        "colab": {
          "base_uri": "https://localhost:8080/"
        }
      },
      "outputs": [
        {
          "output_type": "stream",
          "name": "stdout",
          "text": [
            "My beautiful sunflowers on a sunny Friday morning off :) #sunflowers #favourites #happy #Friday off… https://t.co/3tfYom0N1i\n"
          ]
        }
      ],
      "source": [
        "# Our selected sample. Complex enough to exemplify each step\n",
        "tweet = all_positive_tweets[2277]\n",
        "print(tweet)"
      ]
    },
    {
      "cell_type": "markdown",
      "metadata": {
        "id": "DtZyM0ysaaQn"
      },
      "source": [
        "Let's import a few more libraries for this purpose."
      ]
    },
    {
      "cell_type": "code",
      "execution_count": 15,
      "metadata": {
        "id": "XZ32rfWsaaQn",
        "outputId": "a27e66fb-0590-4360-8cc6-b14bb3dc10fd",
        "colab": {
          "base_uri": "https://localhost:8080/"
        }
      },
      "outputs": [
        {
          "output_type": "stream",
          "name": "stderr",
          "text": [
            "[nltk_data] Downloading package stopwords to /root/nltk_data...\n",
            "[nltk_data]   Unzipping corpora/stopwords.zip.\n"
          ]
        },
        {
          "output_type": "execute_result",
          "data": {
            "text/plain": [
              "True"
            ]
          },
          "metadata": {},
          "execution_count": 15
        }
      ],
      "source": [
        "# download the stopwords from NLTK\n",
        "nltk.download('stopwords')"
      ]
    },
    {
      "cell_type": "code",
      "source": [
        "!ls -lrt /root/nltk_data/corpora/stopwords"
      ],
      "metadata": {
        "id": "I61QrZRrFKxX",
        "outputId": "c68a1bf2-5751-4582-86c6-e4e2ab96a2d6",
        "colab": {
          "base_uri": "https://localhost:8080/"
        }
      },
      "execution_count": 16,
      "outputs": [
        {
          "output_type": "stream",
          "name": "stdout",
          "text": [
            "total 152\n",
            "-rw-r--r-- 1 root root  1362 May  6 17:20 german\n",
            "-rw-r--r-- 1 root root   453 May  6 17:20 dutch\n",
            "-rw-r--r-- 1 root root   260 May  6 17:20 turkish\n",
            "-rw-r--r-- 1 root root 15980 May  6 17:20 slovene\n",
            "-rw-r--r-- 1 root root  1235 May  6 17:20 russian\n",
            "-rw-r--r-- 1 root root  1910 May  6 17:20 romanian\n",
            "-rw-r--r-- 1 root root   909 May  6 17:20 README\n",
            "-rw-r--r-- 1 root root  3880 May  6 17:20 kazakh\n",
            "-rw-r--r-- 1 root root  1654 May  6 17:20 italian\n",
            "-rw-r--r-- 1 root root  1227 May  6 17:20 hungarian\n",
            "-rw-r--r-- 1 root root  1818 May  6 17:20 tajik\n",
            "-rw-r--r-- 1 root root  1286 May  6 17:20 portuguese\n",
            "-rw-r--r-- 1 root root   851 May  6 17:20 norwegian\n",
            "-rw-r--r-- 1 root root  2167 May  6 17:20 greek\n",
            "-rw-r--r-- 1 root root  1579 May  6 17:20 finnish\n",
            "-rw-r--r-- 1 root root   936 May  6 17:20 english\n",
            "-rw-r--r-- 1 root root   424 May  6 17:20 danish\n",
            "-rw-r--r-- 1 root root   559 May  6 17:20 swedish\n",
            "-rw-r--r-- 1 root root  2176 May  6 17:20 spanish\n",
            "-rw-r--r-- 1 root root   813 May  6 17:20 french\n",
            "-rw-r--r-- 1 root root   967 May  6 17:20 azerbaijani\n",
            "-rw-r--r-- 1 root root  3610 May  6 17:20 nepali\n",
            "-rw-r--r-- 1 root root  6446 May  6 17:20 indonesian\n",
            "-rw-r--r-- 1 root root  5958 May  6 17:20 hinglish\n",
            "-rw-r--r-- 1 root root  1836 May  6 17:20 hebrew\n",
            "-rw-r--r-- 1 root root  5560 May  6 17:20 chinese\n",
            "-rw-r--r-- 1 root root  5443 May  6 17:20 bengali\n",
            "-rw-r--r-- 1 root root  6348 May  6 17:20 arabic\n",
            "-rw-r--r-- 1 root root  1558 May  6 17:20 catalan\n",
            "-rw-r--r-- 1 root root  2202 May  6 17:20 basque\n"
          ]
        }
      ]
    },
    {
      "cell_type": "code",
      "execution_count": 17,
      "metadata": {
        "id": "llpiLQR-aaQo"
      },
      "outputs": [],
      "source": [
        "import re                                  # library for regular expression operations\n",
        "import string                              # for string operations\n",
        "\n",
        "from nltk.corpus import stopwords          # module for stop words that come with NLTK\n",
        "from nltk.stem import PorterStemmer        # module for stemming\n",
        "from nltk.tokenize import TweetTokenizer   # module for tokenizing strings"
      ]
    },
    {
      "cell_type": "markdown",
      "metadata": {
        "id": "4YIcXORZaaQo"
      },
      "source": [
        "### Remove hyperlinks,  Twitter marks and styles\n",
        "\n",
        "Since we have a Twitter dataset, we'd like to remove some substrings commonly used on the platform like the hashtag, retweet marks, and hyperlinks. We'll use the [re](https://docs.python.org/3/library/re.html) library to perform regular expression operations on our tweet. We'll define our search pattern and use the `sub()` method to remove matches by substituting with an empty character (i.e. `''`)"
      ]
    },
    {
      "cell_type": "code",
      "execution_count": 18,
      "metadata": {
        "id": "9l4gjEdeaaQp",
        "outputId": "6640f264-fa4f-423f-8ea9-987d80df99e3",
        "colab": {
          "base_uri": "https://localhost:8080/"
        }
      },
      "outputs": [
        {
          "output_type": "stream",
          "name": "stdout",
          "text": [
            "\u001b[92mMy beautiful sunflowers on a sunny Friday morning off :) #sunflowers #favourites #happy #Friday off… https://t.co/3tfYom0N1i\n",
            "\u001b[94m\n",
            "My beautiful sunflowers on a sunny Friday morning off :) sunflowers favourites happy Friday off… \n"
          ]
        }
      ],
      "source": [
        "print('\\033[92m' + tweet)\n",
        "print('\\033[94m')\n",
        "\n",
        "# remove old style retweet text \"RT\"\n",
        "tweet2 = re.sub(r'^RT[\\s]+', '', tweet)\n",
        "\n",
        "# remove hyperlinks\n",
        "tweet2 = re.sub(r'https?:\\/\\/.*[\\r\\n]*', '', tweet2)\n",
        "\n",
        "# remove hashtags\n",
        "# only removing the hash # sign from the word\n",
        "tweet2 = re.sub(r'#', '', tweet2)\n",
        "\n",
        "print(tweet2)"
      ]
    },
    {
      "cell_type": "markdown",
      "metadata": {
        "id": "B0eN4KQwaaQp"
      },
      "source": [
        "### Tokenize the string\n",
        "\n",
        "To tokenize means to split the strings into individual words without blanks or tabs. In this same step, we will also convert each word in the string to lower case. The [tokenize](https://www.nltk.org/api/nltk.tokenize.html#module-nltk.tokenize.casual) module from NLTK allows us to do these easily:"
      ]
    },
    {
      "cell_type": "code",
      "execution_count": 19,
      "metadata": {
        "id": "UH5v5efkaaQq",
        "outputId": "42b654c4-6314-4e2c-849f-77b9dcf19f05",
        "colab": {
          "base_uri": "https://localhost:8080/"
        }
      },
      "outputs": [
        {
          "output_type": "stream",
          "name": "stdout",
          "text": [
            "\n",
            "\u001b[92mMy beautiful sunflowers on a sunny Friday morning off :) sunflowers favourites happy Friday off… \n",
            "\u001b[94m\n",
            "\n",
            "Tokenized string:\n",
            "['my', 'beautiful', 'sunflowers', 'on', 'a', 'sunny', 'friday', 'morning', 'off', ':)', 'sunflowers', 'favourites', 'happy', 'friday', 'off', '…']\n"
          ]
        }
      ],
      "source": [
        "print()\n",
        "print('\\033[92m' + tweet2)\n",
        "print('\\033[94m')\n",
        "\n",
        "# instantiate tokenizer class\n",
        "tokenizer = TweetTokenizer(preserve_case=False, strip_handles=True,\n",
        "                               reduce_len=True)\n",
        "\n",
        "# tokenize tweets\n",
        "tweet_tokens = tokenizer.tokenize(tweet2)\n",
        "\n",
        "print()\n",
        "print('Tokenized string:')\n",
        "print(tweet_tokens)"
      ]
    },
    {
      "cell_type": "markdown",
      "metadata": {
        "id": "CRrR8MkyaaQr"
      },
      "source": [
        "### Remove stop words and punctuations\n",
        "\n",
        "The next step is to remove stop words and punctuation. Stop words are words that don't add significant meaning to the text. You'll see the list provided by NLTK when you run the cells below."
      ]
    },
    {
      "cell_type": "code",
      "execution_count": 22,
      "metadata": {
        "id": "FIVm11hdaaQs",
        "outputId": "c5d7fc11-900c-4d2b-bb38-6b86ee82396f",
        "colab": {
          "base_uri": "https://localhost:8080/"
        }
      },
      "outputs": [
        {
          "output_type": "stream",
          "name": "stdout",
          "text": [
            "Stop words\n",
            "\n",
            "['i', 'me', 'my', 'myself', 'we', 'our', 'ours', 'ourselves', 'you', \"you're\", \"you've\", \"you'll\", \"you'd\", 'your', 'yours', 'yourself', 'yourselves', 'he', 'him', 'his', 'himself', 'she', \"she's\", 'her', 'hers', 'herself', 'it', \"it's\", 'its', 'itself', 'they', 'them', 'their', 'theirs', 'themselves', 'what', 'which', 'who', 'whom', 'this', 'that', \"that'll\", 'these', 'those', 'am', 'is', 'are', 'was', 'were', 'be', 'been', 'being', 'have', 'has', 'had', 'having', 'do', 'does', 'did', 'doing', 'a', 'an', 'the', 'and', 'but', 'if', 'or', 'because', 'as', 'until', 'while', 'of', 'at', 'by', 'for', 'with', 'about', 'against', 'between', 'into', 'through', 'during', 'before', 'after', 'above', 'below', 'to', 'from', 'up', 'down', 'in', 'out', 'on', 'off', 'over', 'under', 'again', 'further', 'then', 'once', 'here', 'there', 'when', 'where', 'why', 'how', 'all', 'any', 'both', 'each', 'few', 'more', 'most', 'other', 'some', 'such', 'no', 'nor', 'not', 'only', 'own', 'same', 'so', 'than', 'too', 'very', 's', 't', 'can', 'will', 'just', 'don', \"don't\", 'should', \"should've\", 'now', 'd', 'll', 'm', 'o', 're', 've', 'y', 'ain', 'aren', \"aren't\", 'couldn', \"couldn't\", 'didn', \"didn't\", 'doesn', \"doesn't\", 'hadn', \"hadn't\", 'hasn', \"hasn't\", 'haven', \"haven't\", 'isn', \"isn't\", 'ma', 'mightn', \"mightn't\", 'mustn', \"mustn't\", 'needn', \"needn't\", 'shan', \"shan't\", 'shouldn', \"shouldn't\", 'wasn', \"wasn't\", 'weren', \"weren't\", 'won', \"won't\", 'wouldn', \"wouldn't\"]\n",
            "\n",
            "Punctuation\n",
            "\n",
            "!\"#$%&'()*+,-./:;<=>?@[\\]^_`{|}~\n"
          ]
        }
      ],
      "source": [
        "#Import the english stop words list from NLTK\n",
        "stopwords_english = stopwords.words('english') \n",
        "\n",
        "print('Stop words\\n')\n",
        "print(stopwords_english)\n",
        "\n",
        "print('\\nPunctuation\\n')\n",
        "print(string.punctuation)"
      ]
    },
    {
      "cell_type": "markdown",
      "metadata": {
        "id": "qx88kS89aaQt"
      },
      "source": [
        "We can see that the stop words list above contains some words that could be important in some contexts. \n",
        "These could be words like _i, not, between, because, won, against_. You might need to customize the stop words list for some applications. For our exercise, we will use the entire list.\n",
        "\n",
        "For the punctuation, we saw earlier that certain groupings like ':)' and '...'  should be retained when dealing with tweets because they are used to express emotions. In other contexts, like medical analysis, these should also be removed.\n",
        "\n",
        "Time to clean up our tokenized tweet!"
      ]
    },
    {
      "cell_type": "code",
      "execution_count": 23,
      "metadata": {
        "id": "Lv1Vvwe4aaQu",
        "outputId": "9d4fbbb2-1a44-4342-8987-220c3f91eda4",
        "colab": {
          "base_uri": "https://localhost:8080/"
        }
      },
      "outputs": [
        {
          "output_type": "stream",
          "name": "stdout",
          "text": [
            "\n",
            "\u001b[92m\n",
            "['my', 'beautiful', 'sunflowers', 'on', 'a', 'sunny', 'friday', 'morning', 'off', ':)', 'sunflowers', 'favourites', 'happy', 'friday', 'off', '…']\n",
            "\u001b[94m\n",
            "removed stop words and punctuation:\n",
            "['beautiful', 'sunflowers', 'sunny', 'friday', 'morning', ':)', 'sunflowers', 'favourites', 'happy', 'friday', '…']\n"
          ]
        }
      ],
      "source": [
        "print()\n",
        "print('\\033[92m')\n",
        "print(tweet_tokens)\n",
        "print('\\033[94m')\n",
        "\n",
        "tweets_clean = []\n",
        "\n",
        "for word in tweet_tokens: # Go through every word in your tokens list\n",
        "    if (word not in stopwords_english and  # remove stopwords\n",
        "        word not in string.punctuation):  # remove punctuation\n",
        "        tweets_clean.append(word)\n",
        "\n",
        "print('removed stop words and punctuation:')\n",
        "print(tweets_clean)"
      ]
    },
    {
      "cell_type": "markdown",
      "metadata": {
        "id": "mNLnQPI8aaQu"
      },
      "source": [
        "Please note that the words **happy** and **sunny** in this list are correctly spelled. "
      ]
    },
    {
      "cell_type": "markdown",
      "metadata": {
        "id": "Uu6QCP8TaaQv"
      },
      "source": [
        "### Stemming\n",
        "\n",
        "Stemming is the process of converting a word to its most general form, or stem. This helps in reducing the size of our vocabulary.\n",
        "\n",
        "Consider the words: \n",
        " * **learn**\n",
        " * **learn**ing\n",
        " * **learn**ed\n",
        " * **learn**t\n",
        " \n",
        "All these words are stemmed from its common root **learn**. However, in some cases, the stemming process produces words that are not correct spellings of the root word. For example, **happi** and **sunni**. That's because it chooses the most common stem for related words. For example, we can look at the set of words that comprises the different forms of happy:\n",
        "\n",
        " * **happ**y\n",
        " * **happi**ness\n",
        " * **happi**er\n",
        " \n",
        "We can see that the prefix **happi** is more commonly used. We cannot choose **happ** because it is the stem of unrelated words like **happen**.\n",
        " \n",
        "NLTK has different modules for stemming and we will be using the [PorterStemmer](https://www.nltk.org/api/nltk.stem.html#module-nltk.stem.porter) module which uses the [Porter Stemming Algorithm](https://tartarus.org/martin/PorterStemmer/). Let's see how we can use it in the cell below."
      ]
    },
    {
      "cell_type": "code",
      "execution_count": 24,
      "metadata": {
        "id": "DC0Duq55aaQv",
        "outputId": "0e495ed9-a63d-42fa-8e2e-7b728b632ffd",
        "colab": {
          "base_uri": "https://localhost:8080/"
        }
      },
      "outputs": [
        {
          "output_type": "stream",
          "name": "stdout",
          "text": [
            "\n",
            "\u001b[92m\n",
            "['beautiful', 'sunflowers', 'sunny', 'friday', 'morning', ':)', 'sunflowers', 'favourites', 'happy', 'friday', '…']\n",
            "\u001b[94m\n",
            "stemmed words:\n",
            "['beauti', 'sunflow', 'sunni', 'friday', 'morn', ':)', 'sunflow', 'favourit', 'happi', 'friday', '…']\n"
          ]
        }
      ],
      "source": [
        "print()\n",
        "print('\\033[92m')\n",
        "print(tweets_clean)\n",
        "print('\\033[94m')\n",
        "\n",
        "# Instantiate stemming class\n",
        "stemmer = PorterStemmer() \n",
        "\n",
        "# Create an empty list to store the stems\n",
        "tweets_stem = [] \n",
        "\n",
        "for word in tweets_clean:\n",
        "    stem_word = stemmer.stem(word)  # stemming word\n",
        "    tweets_stem.append(stem_word)  # append to the list\n",
        "\n",
        "print('stemmed words:')\n",
        "print(tweets_stem)"
      ]
    },
    {
      "cell_type": "markdown",
      "metadata": {
        "id": "4btgttKKaaQw"
      },
      "source": [
        "That's it! Now we have a set of words we can feed into to the next stage of our machine learning project."
      ]
    },
    {
      "cell_type": "markdown",
      "metadata": {
        "id": "_2qbQIcEaaQw"
      },
      "source": [
        "## process_tweet()\n",
        "\n",
        "As shown above, preprocessing consists of multiple steps before you arrive at the final list of words. We will not ask you to replicate these however. In the week's assignment, you will use the function `process_tweet(tweet)` available in _utils.py_. We encourage you to open the file and you'll see that this function's implementation is very similar to the steps above.\n",
        "\n",
        "To obtain the same result as in the previous code cells, you will only need to call the function `process_tweet()`. Let's do that in the next cell."
      ]
    },
    {
      "cell_type": "code",
      "source": [
        "def process_tweet(tweet):\n",
        "    \"\"\"Process tweet function.\n",
        "    Input:\n",
        "        tweet: a string containing a tweet\n",
        "    Output:\n",
        "        tweets_clean: a list of words containing the processed tweet\n",
        "    \"\"\"\n",
        "    stemmer = PorterStemmer()\n",
        "    stopwords_english = stopwords.words('english')\n",
        "    # remove stock market tickers like $GE\n",
        "    tweet = re.sub(r'\\$\\w*', '', tweet)\n",
        "    # remove old style retweet text \"RT\"\n",
        "    tweet = re.sub(r'^RT[\\s]+', '', tweet)\n",
        "    # remove hyperlinks\n",
        "    tweet = re.sub(r'https?:\\/\\/.*[\\r\\n]*', '', tweet)\n",
        "    # remove hashtags\n",
        "    # only removing the hash # sign from the word\n",
        "    tweet = re.sub(r'#', '', tweet)\n",
        "    # tokenize tweets\n",
        "    tokenizer = TweetTokenizer(preserve_case=False, strip_handles=True,\n",
        "                               reduce_len=True)\n",
        "    tweet_tokens = tokenizer.tokenize(tweet)\n",
        "\n",
        "    tweets_clean = []\n",
        "    for word in tweet_tokens:\n",
        "        if (word not in stopwords_english and  # remove stopwords\n",
        "                word not in string.punctuation):  # remove punctuation\n",
        "            # tweets_clean.append(word)\n",
        "            stem_word = stemmer.stem(word)  # stemming word\n",
        "            tweets_clean.append(stem_word)\n",
        "\n",
        "    return tweets_clean\n"
      ],
      "metadata": {
        "id": "CFbq6h4neXFK"
      },
      "execution_count": 25,
      "outputs": []
    },
    {
      "cell_type": "code",
      "execution_count": 26,
      "metadata": {
        "id": "6QiL5WOEaaQw",
        "outputId": "fe206126-232c-4515-a147-77de98173d70",
        "colab": {
          "base_uri": "https://localhost:8080/"
        }
      },
      "outputs": [
        {
          "output_type": "stream",
          "name": "stdout",
          "text": [
            "\n",
            "\u001b[92m\n",
            "My beautiful sunflowers on a sunny Friday morning off :) #sunflowers #favourites #happy #Friday off… https://t.co/3tfYom0N1i\n",
            "\u001b[94m\n",
            "preprocessed tweet:\n",
            "['beauti', 'sunflow', 'sunni', 'friday', 'morn', ':)', 'sunflow', 'favourit', 'happi', 'friday', '…']\n"
          ]
        }
      ],
      "source": [
        "#from utils import process_tweet # Import the process_tweet function\n",
        "\n",
        "# choose the same tweet\n",
        "tweet = all_positive_tweets[2277]\n",
        "\n",
        "print()\n",
        "print('\\033[92m')\n",
        "print(tweet)\n",
        "print('\\033[94m')\n",
        "\n",
        "# call the imported function\n",
        "tweets_stem = process_tweet(tweet); # Preprocess a given tweet\n",
        "\n",
        "print('preprocessed tweet:')\n",
        "print(tweets_stem) # Print the result"
      ]
    },
    {
      "cell_type": "markdown",
      "metadata": {
        "id": "Oj0fixyfaaQx"
      },
      "source": [
        "That's it for this lab! You now know what is going on when you call the preprocessing helper function in this week's assignment. Hopefully, this exercise has also given you some insights on how to tweak this for other types of text datasets."
      ]
    }
  ],
  "metadata": {
    "kernelspec": {
      "display_name": "Python 3",
      "language": "python",
      "name": "python3"
    },
    "language_info": {
      "codemirror_mode": {
        "name": "ipython",
        "version": 3
      },
      "file_extension": ".py",
      "mimetype": "text/x-python",
      "name": "python",
      "nbconvert_exporter": "python",
      "pygments_lexer": "ipython3",
      "version": "3.7.1"
    },
    "colab": {
      "provenance": [],
      "include_colab_link": true
    }
  },
  "nbformat": 4,
  "nbformat_minor": 0
}